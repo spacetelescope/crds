{
 "cells": [
  {
   "cell_type": "markdown",
   "metadata": {},
   "source": [
    "# CRDS For Developers\n",
    "\n",
    "\n",
    "Overview\n",
    "========\n",
    "This notebook demos a basic command line submission."
   ]
  },
  {
   "cell_type": "markdown",
   "metadata": {},
   "source": [
    "Setup CRDS Server and Cache\n",
    "========================="
   ]
  },
  {
   "cell_type": "code",
   "execution_count": 26,
   "metadata": {},
   "outputs": [],
   "source": [
    "import os\n",
    "PROJECT = 'jwst'   # Also hst\n",
    "USECASE = 'bit'    # Also test, dev, cit   (ops is an exception)\n",
    "os.environ[\"CRDS_SERVER_URL\"] = \"https://\" + PROJECT + \"-crds-\" + USECASE + \".stsci.edu\"\n",
    "os.environ[\"CRDS_PATH\"] = os.path.join(os.environ[\"HOME\"], \"crds_cache_\" + USECASE)"
   ]
  },
  {
   "cell_type": "markdown",
   "metadata": {},
   "source": [
    "NOTE:  The OPS servers use an empty USECASE for CRDS_SERVER_URL, e.g. JWST OPS is https://jwst-crds.stsci.edu"
   ]
  },
  {
   "cell_type": "markdown",
   "metadata": {},
   "source": [
    "Setup auth.mast token\n",
    "==================\n",
    "\n",
    "**NOTE**:  This section illustrates setting up a MAST authentication token,  you must obtain your own\n",
    "token and replace the token shown below.\n",
    "\n",
    "Probably the best way to set your auth.mast token is to mimic Astroquery and define MAST_API_TOKEN.   If you've already defined MAST_API_TOKEN you can stop.\n",
    "\n",
    "Otherwise visit https://auth.mast.stsci.edu/token, fill in an identifying name for this token like \"CRDS submit\"and click the Create Token button. (If you already have a token you can skip this and use it.)\n",
    "\n",
    "Copy the resulting token string here:"
   ]
  },
  {
   "cell_type": "code",
   "execution_count": 27,
   "metadata": {},
   "outputs": [],
   "source": [
    "os.environ[\"MAST_API_TOKEN\"] = \" 14b94d32cf4648638b604fc05c86bd23\""
   ]
  },
  {
   "cell_type": "markdown",
   "metadata": {},
   "source": [
    "**NOTE:**  you must change the hex string above to one generated for you personally by visiting auth.mast.\n",
    "\n",
    "CRDS has two other mechanisms for conveying the auth.mast token.   You can set it in the .crds.ini file in your $HOME.   Or you can enter it in response to a prompt for a \"password\".  auth.mast tokens currently remain valid for 2 weeks.  "
   ]
  },
  {
   "cell_type": "markdown",
   "metadata": {},
   "source": [
    "Checking Configuration Status\n",
    "------------------------------------\n",
    "\n",
    "CRDS configuration status can be dumped out using:"
   ]
  },
  {
   "cell_type": "code",
   "execution_count": 28,
   "metadata": {},
   "outputs": [
    {
     "name": "stdout",
     "output_type": "stream",
     "text": [
      "CRDS Version = '7.3.3, 7.3.3, 0739f7565259bc3e4946dbcda5e292149972b5ab'\r\n",
      "CRDS_MODE = 'auto'\r\n",
      "CRDS_PATH = '/Users/jmiller/crds_cache_bit'\r\n",
      "CRDS_SERVER_URL = 'https://jwst-crds-bit.stsci.edu'\r\n",
      "Cache Locking = 'enabled, multiprocessing'\r\n",
      "Effective Context = 'jwst_0532.pmap'\r\n",
      "Last Synced = '2019-06-14 11:45:18.941572'\r\n",
      "Python Executable = '/Users/jmiller/miniconda3/envs/jwst_dev/bin/python'\r\n",
      "Python Version = '3.7.3.final.0'\r\n",
      "Readonly Cache = False\r\n"
     ]
    }
   ],
   "source": [
    "! crds list --status"
   ]
  },
  {
   "cell_type": "markdown",
   "metadata": {},
   "source": [
    "Obtaining test data\n",
    "-----------------------\n",
    "For the sake of this demo,  you can download a demo reference from the CRDS server like this:"
   ]
  },
  {
   "cell_type": "code",
   "execution_count": 40,
   "metadata": {},
   "outputs": [
    {
     "name": "stdout",
     "output_type": "stream",
     "text": [
      "CRDS - INFO -  Symbolic context 'jwst-operational' resolves to 'jwst_0532.pmap'\n",
      "CRDS - INFO -  Removing all context pickles.  Use --save-pickles to recreate for specified contexts.\n",
      "CRDS - INFO -  Reorganizing 35 references from 'flat' to 'flat'\n",
      "CRDS - INFO -  Syncing explicitly listed files.\n",
      "CRDS - INFO -  0 errors\n",
      "CRDS - INFO -  0 warnings\n",
      "CRDS - INFO -  4 infos\n",
      "('jwst_miri_dark_0057.fits', 'CRDSUNIQ', '=', '2019-06-14T11:59:48')\n",
      "CRDS - INFO -  Symbolic context 'jwst-edit' resolves to 'jwst_0537.pmap'\n",
      "CRDS - INFO -  Removing all context pickles.  Use --save-pickles to recreate for specified contexts.\n",
      "CRDS - WARNING -  Failed listing mappings for 'jwst_0537.pmap' : CRDS jsonrpc failure 'get_mapping_names' UnavailableFile: File 'jwst_0537.pmap' is not yet available.\n",
      "CRDS - INFO -  0 errors\n",
      "CRDS - INFO -  1 warnings\n",
      "CRDS - INFO -  2 infos\n"
     ]
    }
   ],
   "source": [
    "old_path = os.environ[\"CRDS_PATH\"]\n",
    "os.environ[\"CRDS_PATH\"] = \"/tmp/crds_cache_demo\"\n",
    "!crds sync --output-dir=. --files jwst_miri_dark_0057.fits --organize=flat --repair-files\n",
    "os.environ[\"CRDS_PATH\"] = old_path\n",
    "! crds_unique CRDSUNIQ *.fits\n",
    "! crds sync --contexts jwst-edit --repair-files"
   ]
  },
  {
   "cell_type": "markdown",
   "metadata": {},
   "source": [
    "Note that your output may vary depending on the content of your CRDS cache defined above with CRDS_PATH.   Once files have been synced they are generally not re-synced."
   ]
  },
  {
   "cell_type": "markdown",
   "metadata": {},
   "source": [
    "CRDS Submit Programmatic API\n",
    "==========================\n",
    "\n",
    "Below is a basic run of the programmatic API for file submissions.   This is intended as a working example\n",
    "more than as a tutorial on the API.\n",
    "\n",
    "In the log output, >> indicates progress messages being emitted from the server in real time.\n",
    "\n",
    "The same >> messages show up on a web page for through-the-web submissions.\n",
    "\n",
    "Adding --verbose shows DEBUG log messages which show more detail, particularly web operations.  --verbosity=80 shows even more detail which can be helpful for debugging failed web interactions.\n",
    "\n",
    "The command line interface does a hand over to the web server for review and confirmation,  server actions result in STARTED, READY / BAD FILES / FAIL, and CONFIRMED / FORCED e-mails sent to the crds-servers@stsci.edu mailing list (devs) and redcat@stsci.edu.\n"
   ]
  },
  {
   "cell_type": "code",
   "execution_count": 41,
   "metadata": {},
   "outputs": [],
   "source": [
    "# from crds import log\n",
    "# log.set_verbose(80)   # 80 for debugging web activity, 0 for no debug, 50 for basic flow\n",
    "\n",
    "from crds.submit import rc_submit\n",
    "script = rc_submit.Submission(PROJECT, USECASE)\n",
    "script[\"deliverer\"] = \"Todd Miller\"\n",
    "script[\"other_email\"] = \"\"\n",
    "script[\"file_type\"] = \"DARK\"\n",
    "script[\"history_updated\"] = True\n",
    "script[\"descrip_updated\"] = True\n",
    "script[\"useafter_updated\"] = True\n",
    "script[\"useafter_matches\"] = True\n",
    "script[\"pedigree_updated\"] = True\n",
    "script[\"keywords_checked\"] = True\n",
    "script[\"compliance_verified\"] = True\n",
    "script[\"ingest_files\"] = True\n",
    "script[\"etc_delivery\"] = False\n",
    "script[\"jwst_etc\"] = True\n",
    "script[\"calpipe_version\"] = \"xxx, 1.0\"\n",
    "script[\"replacement_files\"] = False\n",
    "script[\"old_reference_files\"] = \"xxx\"\n",
    "script[\"replacing_badfiles\"] = False\n",
    "script[\"jira_issue\"] = \"\"\n",
    "script[\"table_rows_changed\"] = \"xxx\"\n",
    "script[\"modes_affected\"] = \"xxxx\"\n",
    "script[\"correctness_testing\"] = \"lots\"\n",
    "script[\"additional_considerations\"] = \"a few\"\n",
    "script[\"change_level\"] = \"SEVERE\"\n",
    "script[\"description\"] = \"something very wordy\"\n",
    "script[\"instrument\"] = \"MIRI\"\n",
    "script.add_file(\"jwst_miri_dark_0057.fits\")"
   ]
  },
  {
   "cell_type": "code",
   "execution_count": 42,
   "metadata": {},
   "outputs": [],
   "source": [
    "script.validate()"
   ]
  },
  {
   "cell_type": "code",
   "execution_count": 43,
   "metadata": {},
   "outputs": [
    {
     "name": "stderr",
     "output_type": "stream",
     "text": [
      "2019-06-14 12:00:08,050 - CRDS - INFO -  =============================== setting up ===============================\n",
      "2019-06-14 12:00:08,052 - CRDS - INFO -  Symbolic context 'jwst-edit' resolves to 'jwst_0534.pmap'\n",
      "2019-06-14 12:00:08,053 - CRDS - INFO -  ########################################\n",
      "2019-06-14 12:00:08,055 - CRDS - INFO -  Certifying './jwst_miri_dark_0057.fits' (1/1) as 'FITS' relative to context 'jwst_0534.pmap'\n",
      "2019-06-14 12:00:09,141 - CRDS - INFO -  FITS file 'jwst_miri_dark_0057.fits' conforms to FITS standards.\n",
      "2019-06-14 12:00:10,856 - CRDS - WARNING -  Missing suggested keyword 'META.MODEL_TYPE [DATAMODL]'\n",
      "2019-06-14 12:00:10,969 - CRDS - INFO -  [0] DETECTOR MIRIFULONG \n",
      "2019-06-14 12:00:10,970 - CRDS - INFO -  [0] EXP_TYPE MIR_MRS \n",
      "2019-06-14 12:00:10,980 - CRDS - INFO -  META.AUTHOR [AUTHOR] = 'JANE MORRISON'\n",
      "2019-06-14 12:00:10,981 - CRDS - INFO -  META.DESCRIPTION [DESCRIP] = 'MIRI Dark Correction for MIRI'\n",
      "2019-06-14 12:00:10,982 - CRDS - INFO -  META.EXPOSURE.GROUPGAP [GROUPGAP] = 0\n",
      "2019-06-14 12:00:10,983 - CRDS - INFO -  META.EXPOSURE.NFRAMES [NFRAMES] = 1\n",
      "2019-06-14 12:00:10,984 - CRDS - INFO -  META.EXPOSURE.NGROUPS [NGROUPS] = 45\n",
      "2019-06-14 12:00:10,985 - CRDS - INFO -  META.EXPOSURE.READPATT [READPATT] = 'SLOW'\n",
      "2019-06-14 12:00:10,986 - CRDS - INFO -  META.EXPOSURE.TYPE [EXP_TYPE] = 'MIR_MRS'\n",
      "2019-06-14 12:00:10,987 - CRDS - INFO -  META.HISTORY [HISTORY] = 'SEE MIRI-TN-00007-UA-Mean-Dark.PDF for details\\nFit was done correcting for nonlinearity and RSCD Correction\\nOne solution rejected first 10 frames and last frame\\nSecond solution corrected all the frames for nonlinearity and RSCD\\nBecause of drifting zero points, first solution was used to find frame v\\nframe value at time = 0 was subtracted off all the data\\nresulting residuals were binned and average\\n a linear fits was performed on the residuals to extrapolate the dark re\\n the number of frames used in the fit is defined by NGVALID\\n The mean dark residuals were used for frames with valid data, out side\\nDATA USED: to create dark CV3  IMG_RAD_01, IMG_RAD_13\\nDOCUMENT: MIRI-TR-00007-UA-Dark_06.00.pdf\\nSOFTWARE: idl code create_dark_CDP6.pro merge_int_CDP6\\nDIFFERENCES: darks now have two integrations\\nCreated from: MiriDarkReferenceModel'\n",
      "2019-06-14 12:00:10,988 - CRDS - INFO -  META.INSTRUMENT.BAND [BAND] = 'ANY'\n",
      "2019-06-14 12:00:10,989 - CRDS - INFO -  META.INSTRUMENT.CHANNEL [CHANNEL] = 34\n",
      "2019-06-14 12:00:10,990 - CRDS - INFO -  META.INSTRUMENT.CORONAGRAPH [CORONMSK] = 'UNDEFINED'\n",
      "2019-06-14 12:00:10,990 - CRDS - INFO -  META.INSTRUMENT.DETECTOR [DETECTOR] = 'MIRIFULONG'\n",
      "2019-06-14 12:00:10,991 - CRDS - INFO -  META.INSTRUMENT.FILTER [FILTER] = 'UNDEFINED'\n",
      "2019-06-14 12:00:10,992 - CRDS - INFO -  META.INSTRUMENT.GRATING [GRATING] = 'UNDEFINED'\n",
      "2019-06-14 12:00:10,993 - CRDS - INFO -  META.INSTRUMENT.NAME [INSTRUME] = 'MIRI'\n",
      "2019-06-14 12:00:10,993 - CRDS - INFO -  META.INSTRUMENT.PUPIL [PUPIL] = 'UNDEFINED'\n",
      "2019-06-14 12:00:10,997 - CRDS - INFO -  META.MODEL_TYPE [DATAMODL] = 'UNDEFINED'\n",
      "2019-06-14 12:00:10,998 - CRDS - INFO -  META.OBSERVATION.DATE [DATE-OBS] = '2015-08-01'\n",
      "2019-06-14 12:00:10,999 - CRDS - INFO -  META.OBSERVATION.TIME [TIME-OBS] = '00:00:00'\n",
      "2019-06-14 12:00:11,000 - CRDS - INFO -  META.PEDIGREE [PEDIGREE] = 'GROUND'\n",
      "2019-06-14 12:00:11,001 - CRDS - INFO -  META.REFTYPE [REFTYPE] = 'DARK'\n",
      "2019-06-14 12:00:11,002 - CRDS - INFO -  META.SUBARRAY.FASTAXIS [FASTAXIS] = 1\n",
      "2019-06-14 12:00:11,002 - CRDS - INFO -  META.SUBARRAY.NAME [SUBARRAY] = 'FULL'\n",
      "2019-06-14 12:00:11,003 - CRDS - INFO -  META.SUBARRAY.SLOWAXIS [SLOWAXIS] = 2\n",
      "2019-06-14 12:00:11,004 - CRDS - INFO -  META.SUBARRAY.XSIZE [SUBSIZE1] = 1032\n",
      "2019-06-14 12:00:11,005 - CRDS - INFO -  META.SUBARRAY.XSTART [SUBSTRT1] = 1\n",
      "2019-06-14 12:00:11,006 - CRDS - INFO -  META.SUBARRAY.YSIZE [SUBSIZE2] = 1024\n",
      "2019-06-14 12:00:11,008 - CRDS - INFO -  META.SUBARRAY.YSTART [SUBSTRT2] = 1\n",
      "2019-06-14 12:00:11,009 - CRDS - INFO -  META.TELESCOPE [TELESCOP] = 'JWST'\n",
      "2019-06-14 12:00:11,009 - CRDS - INFO -  META.USEAFTER [USEAFTER] = '2015-08-01T00:00:00'\n",
      "2019-06-14 12:00:11,010 - CRDS - INFO -  Running fitsverify.\n",
      "2019-06-14 12:00:11,039 - CRDS - INFO -  >>  \n",
      "2019-06-14 12:00:11,041 - CRDS - INFO -  >>               fitsverify 4.18 (CFITSIO V3.440)              \n",
      "2019-06-14 12:00:11,042 - CRDS - INFO -  >>               --------------------------------              \n",
      "2019-06-14 12:00:11,042 - CRDS - INFO -  >>  \n",
      "2019-06-14 12:00:11,044 - CRDS - INFO -  >>  \n",
      "2019-06-14 12:00:11,044 - CRDS - INFO -  >> File: ./jwst_miri_dark_0057.fits\n",
      "2019-06-14 12:00:11,046 - CRDS - INFO -  >> \n",
      "2019-06-14 12:00:11,047 - CRDS - INFO -  >> 7 Header-Data Units in this file.\n",
      "2019-06-14 12:00:11,048 - CRDS - INFO -  >>  \n",
      "2019-06-14 12:00:11,049 - CRDS - INFO -  >> =================== HDU 1: Primary Array ===================\n",
      "2019-06-14 12:00:11,049 - CRDS - INFO -  >>  \n",
      "2019-06-14 12:00:11,051 - CRDS - INFO -  >>  59 header keywords\n",
      "2019-06-14 12:00:11,052 - CRDS - INFO -  >>  \n",
      "2019-06-14 12:00:11,052 - CRDS - INFO -  >>  Null data array; NAXIS = 0 \n",
      "2019-06-14 12:00:11,053 - CRDS - INFO -  >>  \n",
      "2019-06-14 12:00:11,054 - CRDS - INFO -  >> =================== HDU 2: Image Exten. ====================\n",
      "2019-06-14 12:00:11,055 - CRDS - INFO -  >>  \n",
      "2019-06-14 12:00:11,055 - CRDS - INFO -  >>  15 header keywords\n",
      "2019-06-14 12:00:11,056 - CRDS - INFO -  >>  \n",
      "2019-06-14 12:00:11,057 - CRDS - INFO -  >> SCI 32-bit floating point pixels,  4 axes (1032 x 1024 x 45 x 2), \n",
      "2019-06-14 12:00:11,058 - CRDS - INFO -  >>  \n",
      "2019-06-14 12:00:11,059 - CRDS - INFO -  >> =================== HDU 3: Image Exten. ====================\n",
      "2019-06-14 12:00:11,060 - CRDS - INFO -  >>  \n",
      "2019-06-14 12:00:11,060 - CRDS - INFO -  >>  15 header keywords\n",
      "2019-06-14 12:00:11,062 - CRDS - INFO -  >>  \n",
      "2019-06-14 12:00:11,064 - CRDS - INFO -  >> ERR 32-bit floating point pixels,  4 axes (1032 x 1024 x 45 x 2), \n",
      "2019-06-14 12:00:11,065 - CRDS - INFO -  >>  \n",
      "2019-06-14 12:00:11,066 - CRDS - INFO -  >> =================== HDU 4: Image Exten. ====================\n",
      "2019-06-14 12:00:11,066 - CRDS - INFO -  >>  \n",
      "2019-06-14 12:00:11,067 - CRDS - INFO -  >>  16 header keywords\n",
      "2019-06-14 12:00:11,068 - CRDS - INFO -  >>  \n",
      "2019-06-14 12:00:11,069 - CRDS - INFO -  >> DQ 32-bit integer pixels,  4 axes (1032 x 1024 x 1 x 2), \n",
      "2019-06-14 12:00:11,069 - CRDS - INFO -  >>  \n",
      "2019-06-14 12:00:11,070 - CRDS - INFO -  >> =================== HDU 5: BINARY Table ====================\n",
      "2019-06-14 12:00:11,070 - CRDS - INFO -  >>  \n",
      "2019-06-14 12:00:11,071 - CRDS - INFO -  >>  21 header keywords\n",
      "2019-06-14 12:00:11,072 - CRDS - INFO -  >>  \n",
      "2019-06-14 12:00:11,072 - CRDS - INFO -  >>  DQ_DEF  (4 columns x 2 rows)\n",
      "2019-06-14 12:00:11,073 - CRDS - INFO -  >>  \n",
      "2019-06-14 12:00:11,074 - CRDS - INFO -  >>  Col# Name (Units)       Format\n",
      "2019-06-14 12:00:11,075 - CRDS - INFO -  >>    1 BIT                  J         \n",
      "2019-06-14 12:00:11,075 - CRDS - INFO -  >>    2 VALUE                J         \n",
      "2019-06-14 12:00:11,076 - CRDS - INFO -  >>    3 NAME                 40A       \n",
      "2019-06-14 12:00:11,076 - CRDS - INFO -  >>    4 DESCRIPTION          80A       \n",
      "2019-06-14 12:00:11,077 - CRDS - INFO -  >>  \n",
      "2019-06-14 12:00:11,078 - CRDS - INFO -  >> =================== HDU 6: Image Exten. ====================\n",
      "2019-06-14 12:00:11,079 - CRDS - INFO -  >>  \n",
      "2019-06-14 12:00:11,081 - CRDS - INFO -  >>  8 header keywords\n",
      "2019-06-14 12:00:11,082 - CRDS - INFO -  >>  \n",
      "2019-06-14 12:00:11,083 - CRDS - INFO -  >> METADATA 8-bit integer pixels,  1 axes (1634), \n",
      "2019-06-14 12:00:11,083 - CRDS - INFO -  >>  \n",
      "2019-06-14 12:00:11,084 - CRDS - INFO -  >> =================== HDU 7: Image Exten. ====================\n",
      "2019-06-14 12:00:11,085 - CRDS - INFO -  >>  \n",
      "2019-06-14 12:00:11,086 - CRDS - INFO -  >>  9 header keywords\n",
      "2019-06-14 12:00:11,086 - CRDS - INFO -  >>  \n",
      "2019-06-14 12:00:11,087 - CRDS - INFO -  >> FITERR 32-bit floating point pixels,  2 axes (1032 x 1024), \n",
      "2019-06-14 12:00:11,087 - CRDS - INFO -  >>  \n",
      "2019-06-14 12:00:11,088 - CRDS - INFO -  >> ++++++++++++++++++++++ Error Summary  ++++++++++++++++++++++\n",
      "2019-06-14 12:00:11,092 - CRDS - INFO -  >>  \n",
      "2019-06-14 12:00:11,092 - CRDS - INFO -  >>  HDU#  Name (version)       Type             Warnings  Errors\n"
     ]
    },
    {
     "name": "stderr",
     "output_type": "stream",
     "text": [
      "2019-06-14 12:00:11,093 - CRDS - INFO -  >>  1                          Primary Array    0         0     \n",
      "2019-06-14 12:00:11,093 - CRDS - INFO -  >>  2     SCI                  Image Array      0         0     \n",
      "2019-06-14 12:00:11,094 - CRDS - INFO -  >>  3     ERR                  Image Array      0         0     \n",
      "2019-06-14 12:00:11,097 - CRDS - INFO -  >>  4     DQ                   Image Array      0         0     \n",
      "2019-06-14 12:00:11,098 - CRDS - INFO -  >>  5     DQ_DEF               Binary Table     0         0     \n",
      "2019-06-14 12:00:11,099 - CRDS - INFO -  >>  6     METADATA             Image Array      0         0     \n",
      "2019-06-14 12:00:11,099 - CRDS - INFO -  >>  7     FITERR               Image Array      0         0     \n",
      "2019-06-14 12:00:11,100 - CRDS - INFO -  >>  \n",
      "2019-06-14 12:00:11,101 - CRDS - INFO -  >> **** Verification found 0 warning(s) and 0 error(s). ****\n",
      "2019-06-14 12:00:11,102 - CRDS - INFO -  Checking JWST datamodels.\n",
      "2019-06-14 12:00:11,215 - CRDS - WARNING -  NoTypeWarning : jwst.datamodels.util : model_type not found. Opening ./jwst_miri_dark_0057.fits as a ReferenceQuadModel\n",
      "2019-06-14 12:00:11,277 - CRDS - INFO -  ########################################\n",
      "2019-06-14 12:00:11,328 - CRDS - INFO -  Logging in aquiring lock.\n",
      "2019-06-14 12:00:16,267 - CRDS - INFO -  =============================== wipe files ===============================\n",
      "2019-06-14 12:00:16,476 - CRDS - INFO -  Preparing server logging.\n",
      "2019-06-14 12:00:16,677 - CRDS - INFO -  ============================== ingest files ==============================\n",
      "2019-06-14 12:00:16,678 - CRDS - INFO -  Uploading 1 file(s) totalling 773.6 M bytes\n",
      "2019-06-14 12:00:16,835 - CRDS - INFO -  Upload started './jwst_miri_dark_0057.fits' [ 1 / 1  files ] [ 773.6 M / 773.6 M  bytes ]\n",
      "2019-06-14 12:02:11,364 - CRDS - INFO -  ===========================================================================\n",
      "2019-06-14 12:02:11,365 - CRDS - INFO -  Posting web request for '/submission_form/redcat_submit/'\n",
      "CRDS - INFO -  ======= monitoring server on '2e4dbfb7-d32c-40ff-aaea-4505c0585ad7' =======\n",
      "CRDS - INFO -  >> Starting submission processing.\n",
      "CRDS - INFO -  >> Certifying 'jwst_miri_dark_0057.fits'\n",
      "CRDS - INFO -  >> Resolved old rmap as 'jwst_miri_dark_0022.rmap' based on context 'jwst_0537.pmap'\n",
      "CRDS - INFO -  >> Doing trial insertion of 1 references into 'jwst_miri_dark_0022.rmap'\n",
      "CRDS - INFO -  >> Processing 'jwst_miri_dark_0057.fits' [1 / 1 files] [773.6 M / 773.6 M / 773.6 M bytes]\n",
      "CRDS - INFO -  >> Renaming 'jwst_miri_dark_0057.fits' --> 'jwst_miri_dark_0063.fits'\n",
      "CRDS - INFO -  >> Linking jwst_miri_dark_0057.fits --> jwst_miri_dark_0063.fits\n",
      "CRDS - INFO -  >> Adding file 'jwst_miri_dark_0057.fits' to database.\n",
      "CRDS - INFO -  >> Generating new rmap 'jwst_miri_dark_0023.rmap' from 'jwst_miri_dark_0022.rmap'.\n",
      "CRDS - INFO -  >> Adding file 'jwst_miri_dark_0023.rmap' to database.\n",
      "CRDS - INFO -  >> Certifying 'jwst_miri_dark_0023.rmap'\n",
      "CRDS - INFO -  >> Checking for derivation collisions.\n",
      "CRDS - INFO -  >> Computing file differences.\n",
      "CRDS - INFO -  >> Differencing 'jwst_miri_dark_0022.rmap' vs. 'jwst_miri_dark_0023.rmap'\n",
      "CRDS - INFO -  >> COMPLETED: https://jwst-crds-bit.stsci.edu//authenticated_result/1c42968f-b541-42b8-8d5d-533032fb7aca\n",
      "CRDS - INFO -  ========================= monitoring server done =========================\n",
      "CRDS - INFO -  0 errors\n",
      "CRDS - INFO -  2 warnings\n",
      "CRDS - INFO -  134 infos\n",
      "CRDS - INFO -  STARTED 2019-06-14 12:00:08.04\n",
      "CRDS - INFO -  STOPPED 2019-06-14 12:03:19.96\n",
      "CRDS - INFO -  ELAPSED 0:03:11.91\n"
     ]
    },
    {
     "data": {
      "text/plain": [
       "SubmissionResult(error_count=0, warning_count=2, ready_url='https://jwst-crds-bit.stsci.edu//authenticated_result/1c42968f-b541-42b8-8d5d-533032fb7aca')"
      ]
     },
     "execution_count": 43,
     "metadata": {},
     "output_type": "execute_result"
    }
   ],
   "source": [
    "script.submit()"
   ]
  },
  {
   "cell_type": "code",
   "execution_count": null,
   "metadata": {},
   "outputs": [],
   "source": []
  }
 ],
 "metadata": {
  "kernelspec": {
   "display_name": "Python 3",
   "language": "python",
   "name": "python3"
  },
  "language_info": {
   "codemirror_mode": {
    "name": "ipython",
    "version": 3
   },
   "file_extension": ".py",
   "mimetype": "text/x-python",
   "name": "python",
   "nbconvert_exporter": "python",
   "pygments_lexer": "ipython3",
   "version": "3.7.3"
  }
 },
 "nbformat": 4,
 "nbformat_minor": 2
}
