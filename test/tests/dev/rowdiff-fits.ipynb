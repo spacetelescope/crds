{
 "metadata": {
  "name": "",
  "signature": "sha256:faab4008b96bbb87b2690226020195f77b743882b465f1022f19285b1052d709"
 },
 "nbformat": 3,
 "nbformat_minor": 0,
 "worksheets": [
  {
   "cells": [
    {
     "cell_type": "heading",
     "level": 2,
     "metadata": {},
     "source": [
      "Environment"
     ]
    },
    {
     "cell_type": "code",
     "collapsed": false,
     "input": [
      "%autoreload 2\n",
      "\n",
      "import sys\n",
      "\n",
      "sys.path.insert(1, '../..')\n",
      "\n",
      "from itertools import product\n",
      "from astropy.io import fits\n",
      "from astropy.table import Table\n",
      "\n",
      "from crds import rmap\n",
      "import rowdiff"
     ],
     "language": "python",
     "metadata": {},
     "outputs": [],
     "prompt_number": 68
    },
    {
     "cell_type": "heading",
     "level": 2,
     "metadata": {},
     "source": [
      "Library"
     ]
    },
    {
     "cell_type": "code",
     "collapsed": false,
     "input": [
      "def table_to_string(a_table):\n",
      "    \"\"\"Convert a table to a string list.\n",
      "\n",
      "    Parameters\n",
      "    ----------\n",
      "    a_table : astropy.table.table.Table\n",
      "        The table to convert to a string\n",
      "\n",
      "\n",
      "    Returns\n",
      "    -------\n",
      "    result : sequence of strings\n",
      "        A sequence of strings, where each string is one row with comma-separated\n",
      "        column values\n",
      "\n",
      "    \"\"\"\n",
      "    result = list()\n",
      "    for element in a_table:\n",
      "        result.append(str(list(element)).strip('[]'))\n",
      "    return result\n",
      "\n",
      "def column_name_lower(table):\n",
      "    \"\"\"Rename all columns to lowercase\n",
      "\n",
      "    Parameters\n",
      "    ----------\n",
      "    table : astropy.table.Table\n",
      "        Table to rename all columns for.\n",
      "\n",
      "    Returns\n",
      "    -------\n",
      "    Modifies table in place\n",
      "\n",
      "    \"\"\"\n",
      "    for name in table.colnames:\n",
      "        try:\n",
      "            table.rename_column(name, name.lower())\n",
      "        except:\n",
      "            pass\n",
      "        \n",
      "def table_slice_columns(table, column_names):\n",
      "    \"\"\"Return a new table consisting of just the selected\n",
      "    columns\n",
      "    \n",
      "    Parameters\n",
      "    ----------\n",
      "    table: FITS_rec\n",
      "           The input table to take the columns from\n",
      "           \n",
      "    column_names: [str]\n",
      "                  List of column name to extract and copy into the new table.\n",
      "                  \n",
      "    Returns\n",
      "    -------\n",
      "    table: FITS_rec\n",
      "           New copy of all the specified columns from the input table.\n",
      "    \"\"\"\n",
      "    \n",
      "    columns = [table.columns[idx] for idx in range(len(table.columns)) if table.columns[idx].name in column_names]\n",
      "    \n",
      "    return fits.FITS_rec.from_columns(columns)"
     ],
     "language": "python",
     "metadata": {},
     "outputs": [],
     "prompt_number": 45
    },
    {
     "cell_type": "heading",
     "level": 2,
     "metadata": {},
     "source": [
      "Process"
     ]
    },
    {
     "cell_type": "heading",
     "level": 3,
     "metadata": {},
     "source": [
      "Load the data"
     ]
    },
    {
     "cell_type": "code",
     "collapsed": false,
     "input": [
      "ref_old = Nascent()\n",
      "ref_new = Nascent()"
     ],
     "language": "python",
     "metadata": {},
     "outputs": [],
     "prompt_number": 3
    },
    {
     "cell_type": "code",
     "collapsed": false,
     "input": [
      "ref_old.path = rmap.locate_file('X6Q17587L_PHOT.FITS'.lower(), 'hst')\n",
      "ref_new.path = rmap.locate_file('Y3S1619RL_PHOT.FITS'.lower(), 'hst')"
     ],
     "language": "python",
     "metadata": {},
     "outputs": [],
     "prompt_number": 4
    },
    {
     "cell_type": "code",
     "collapsed": false,
     "input": [
      "test_justmodes =  [\n",
      "    'OPT_ELEM',\n",
      "    'CENWAVE',\n",
      "    'APERTURE',\n",
      "]\n",
      "\n",
      "test_mode_with_value =  {\n",
      "    'OPT_ELEM': 'G160M',\n",
      "}\n",
      "\n",
      "test_multi_mode_with_value =  {\n",
      "    'opt_elem': 'G160M',\n",
      "    'cenwave':  '1600',\n",
      "    'aperture': 'WCA',\n",
      "}\n",
      "\n",
      "test_multi_mixed =  {\n",
      "    'opt_elem': 'G160M',\n",
      "    'cenwave':  '',\n",
      "    #'aperture': 'WCA',\n",
      "}"
     ],
     "language": "python",
     "metadata": {},
     "outputs": [],
     "prompt_number": 5
    },
    {
     "cell_type": "code",
     "collapsed": false,
     "input": [
      "mode_fields = test_mode_with_value\n",
      "\n",
      "if isinstance(mode_fields, dict):\n",
      "    mode_field_names = dict.keys(mode_fields)\n",
      "    mode_constraints = {key: value for key, value in mode_fields.iteritems() if value is not None}\n",
      "else:\n",
      "    mode_field_names = mode_fields\n",
      "    mode_constraints = {}"
     ],
     "language": "python",
     "metadata": {},
     "outputs": [],
     "prompt_number": 48
    },
    {
     "cell_type": "code",
     "collapsed": false,
     "input": [
      "mode_constraints"
     ],
     "language": "python",
     "metadata": {},
     "outputs": [
      {
       "metadata": {},
       "output_type": "pyout",
       "prompt_number": 7,
       "text": [
        "{}"
       ]
      }
     ],
     "prompt_number": 7
    },
    {
     "cell_type": "code",
     "collapsed": false,
     "input": [
      "ref_old.hdulist = fits.open(ref_old.path)\n",
      "ref_new.hdulist = fits.open(ref_new.path)"
     ],
     "language": "python",
     "metadata": {},
     "outputs": [],
     "prompt_number": 8
    },
    {
     "cell_type": "heading",
     "level": 3,
     "metadata": {},
     "source": [
      "Convert from FITS table to Astropy Table"
     ]
    },
    {
     "cell_type": "code",
     "collapsed": false,
     "input": [
      "\"\"\"\n",
      "ref_old.table = Table(ref_old.hdulist[1].data, masked=True)\n",
      "ref_new.table = Table(ref_new.hdulist[1].data, masked=True)\n",
      "\"\"\"\n",
      "\n",
      "ref_old.table = ref_old.hdulist[1].data\n",
      "ref_new.table = ref_new.hdulist[1].data"
     ],
     "language": "python",
     "metadata": {},
     "outputs": [],
     "prompt_number": 9
    },
    {
     "cell_type": "heading",
     "level": 3,
     "metadata": {},
     "source": [
      "Rename the columns to lowercase."
     ]
    },
    {
     "cell_type": "code",
     "collapsed": false,
     "input": [
      "\"\"\"\n",
      "column_name_lower(ref_old.table)\n",
      "column_name_lower(ref_new.table)\n",
      "\"\"\""
     ],
     "language": "python",
     "metadata": {},
     "outputs": [
      {
       "metadata": {},
       "output_type": "pyout",
       "prompt_number": 10,
       "text": [
        "'\\ncolumn_name_lower(ref_old.table)\\ncolumn_name_lower(ref_new.table)\\n'"
       ]
      }
     ],
     "prompt_number": 10
    },
    {
     "cell_type": "heading",
     "level": 3,
     "metadata": {},
     "source": [
      "If mode_fields is presented as a dictionary,\n",
      "mask the tables based on the values."
     ]
    },
    {
     "cell_type": "code",
     "collapsed": false,
     "input": [
      "a_mode_mask = None\n",
      "b_mode_mask = None\n",
      "for mode_field in mode_constraints:\n",
      "    a_mask = (ref_old.table[mode_field] == mode_constraints[mode_field])\n",
      "    b_mask = (ref_new.table[mode_field] == mode_constraints[mode_field])\n",
      "    if a_mode_mask is not None:\n",
      "        a_mode_mask = a_mode_mask | a_mask\n",
      "        b_mode_mask = b_mode_mask | b_mask\n",
      "    else:\n",
      "        a_mode_mask = a_mask\n",
      "        b_mode_mask = b_mask\n",
      "        \n",
      "if a_mode_mask is not None:\n",
      "    ref_old.table_masked = ref_old.table[a_mode_mask]\n",
      "    ref_new.table_masked = ref_new.table[b_mode_mask]\n",
      "else:\n",
      "    ref_old.table_masked = ref_old.table\n",
      "    ref_new.table_masked = ref_new.table"
     ],
     "language": "python",
     "metadata": {},
     "outputs": [],
     "prompt_number": 49
    },
    {
     "cell_type": "code",
     "collapsed": false,
     "input": [
      "print Table(ref_old.table_masked)"
     ],
     "language": "python",
     "metadata": {},
     "outputs": [
      {
       "output_type": "stream",
       "stream": "stdout",
       "text": [
        "SEGMENT OPT_ELEM ...   WAVELENGTH [2730]             SENSITIVITY [2730]        \n",
        "------- -------- ... ---------------------- -----------------------------------\n",
        "   FUVA G160M    ... 1562.7769 .. 1763.3091        6018281984.0 .. 2823985664.0\n",
        "   FUVB G160M    ... 1374.6019 .. 1575.0359       14004661248.0 .. 6088981504.0\n",
        "   FUVA G160M    ... 1562.7769 .. 1763.3091    976394977280.0 .. 472636129280.0\n",
        "   FUVB G160M    ... 1374.6019 .. 1575.0359  2.0298605527e+12 .. 991117639680.0\n",
        "   FUVA G160M    ... 1574.6576 .. 1775.1571        5624765440.0 .. 2619699200.0\n",
        "   FUVB G160M    ... 1386.5032 .. 1586.8879       13598028800.0 .. 5703174144.0\n",
        "   FUVA G160M    ... 1574.6576 .. 1775.1571    915463012352.0 .. 438609641472.0\n",
        "   FUVB G160M    ... 1386.5032 .. 1586.8879 1.99264947405e+12 .. 931283468288.0\n",
        "   FUVA G160M    ...   1586.175 .. 1786.609        5268099072.0 .. 2406062592.0\n",
        "   FUVB G160M    ...   1397.97 .. 1598.4039       13187261440.0 .. 5358405632.0\n",
        "   FUVA G160M    ...   1586.175 .. 1786.609    860073820160.0 .. 402986598400.0\n",
        "   FUVB G160M    ...   1397.97 .. 1598.4039 1.95004019507e+12 .. 877708836864.0\n",
        "   FUVA G160M    ...  1598.2898 .. 1798.691        4952528384.0 .. 2175013888.0\n",
        "   FUVB G160M    ... 1410.0759 .. 1610.5099       12722975744.0 .. 5037264896.0\n",
        "   FUVA G160M    ...  1598.2898 .. 1798.691    811201003520.0 .. 364427706368.0\n",
        "   FUVB G160M    ... 1410.0759 .. 1610.5099 1.89682470093e+12 .. 827814379520.0\n",
        "   FUVA G160M    ...   1610.425 .. 1810.859        4702030848.0 .. 1948256000.0\n",
        "   FUVB G160M    ... 1422.2573 .. 1622.6749       12245009408.0 .. 4748457472.0\n",
        "   FUVA G160M    ...   1610.425 .. 1810.859    772704894976.0 .. 326569721856.0\n",
        "   FUVB G160M    ... 1422.2573 .. 1622.6749 1.84076704154e+12 .. 782935064576.0\n"
       ]
      }
     ],
     "prompt_number": 70
    },
    {
     "cell_type": "code",
     "collapsed": false,
     "input": [
      "dir(ref_old.table_masked.columns[1])"
     ],
     "language": "python",
     "metadata": {},
     "outputs": [
      {
       "metadata": {},
       "output_type": "pyout",
       "prompt_number": 63,
       "text": [
        "['__class__',\n",
        " '__delattr__',\n",
        " '__dict__',\n",
        " '__doc__',\n",
        " '__eq__',\n",
        " '__format__',\n",
        " '__getattribute__',\n",
        " '__hash__',\n",
        " '__init__',\n",
        " '__module__',\n",
        " '__new__',\n",
        " '__reduce__',\n",
        " '__reduce_ex__',\n",
        " '__repr__',\n",
        " '__setattr__',\n",
        " '__sizeof__',\n",
        " '__str__',\n",
        " '__subclasshook__',\n",
        " '__weakref__',\n",
        " '_convert_format',\n",
        " '_convert_to_valid_data_type',\n",
        " '_dims',\n",
        " '_guess_format',\n",
        " '_phantom',\n",
        " '_physical_values',\n",
        " '_pseudo_unsigned_ints',\n",
        " 'array',\n",
        " 'bscale',\n",
        " 'bzero',\n",
        " 'copy',\n",
        " 'dim',\n",
        " 'disp',\n",
        " 'dtype',\n",
        " 'format',\n",
        " 'name',\n",
        " 'null',\n",
        " 'start',\n",
        " 'unit']"
       ]
      }
     ],
     "prompt_number": 63
    },
    {
     "cell_type": "code",
     "collapsed": false,
     "input": [
      "ref_old.table_masked.columns[1].array"
     ],
     "language": "python",
     "metadata": {},
     "outputs": [
      {
       "metadata": {},
       "output_type": "pyout",
       "prompt_number": 64,
       "text": [
        "chararray(['G130M', 'G130M', 'G130M', 'G130M', 'G130M', 'G130M', 'G130M',\n",
        "       'G130M', 'G130M', 'G130M', 'G130M', 'G130M', 'G130M', 'G130M',\n",
        "       'G130M', 'G130M', 'G130M', 'G130M', 'G130M', 'G130M', 'G130M',\n",
        "       'G130M', 'G130M', 'G130M', 'G130M', 'G130M', 'G130M', 'G130M',\n",
        "       'G130M', 'G130M', 'G130M', 'G130M', 'G140L', 'G140L', 'G140L',\n",
        "       'G140L', 'G140L', 'G140L', 'G140L', 'G140L', 'G140L', 'G140L',\n",
        "       'G140L', 'G140L', 'G160M', 'G160M', 'G160M', 'G160M', 'G160M',\n",
        "       'G160M', 'G160M', 'G160M', 'G160M', 'G160M', 'G160M', 'G160M',\n",
        "       'G160M', 'G160M', 'G160M', 'G160M', 'G160M', 'G160M', 'G160M',\n",
        "       'G160M'], \n",
        "      dtype='|S8')"
       ]
      }
     ],
     "prompt_number": 64
    },
    {
     "cell_type": "heading",
     "level": 3,
     "metadata": {},
     "source": [
      "Sort on the mode fields. We do this on the full tables\n",
      "because later on we are going to examin the full tables\n",
      "for diffing."
     ]
    },
    {
     "cell_type": "code",
     "collapsed": false,
     "input": [
      "ref_old.table_masked.sort(order=mode_field_names)\n",
      "ref_new.table_masked.sort(order=mode_field_names)"
     ],
     "language": "python",
     "metadata": {},
     "outputs": [],
     "prompt_number": 50
    },
    {
     "cell_type": "heading",
     "level": 3,
     "metadata": {},
     "source": [
      "Create tables with just the mode columns"
     ]
    },
    {
     "cell_type": "code",
     "collapsed": false,
     "input": [
      "\"\"\"\n",
      "ref_old.table_modes = ref_old.table[mode_field_names]\n",
      "ref_new.table_modes = ref_new.table[mode_field_names]\n",
      "\"\"\"\n",
      "\n",
      "ref_old.table_modes = table_slice_columns(ref_old.table, mode_field_names)\n",
      "ref_new.table_modes = table_slice_columns(ref_new.table_masked, mode_field_names)"
     ],
     "language": "python",
     "metadata": {},
     "outputs": [],
     "prompt_number": 58
    },
    {
     "cell_type": "code",
     "collapsed": false,
     "input": [
      "ref_old.table_modes"
     ],
     "language": "python",
     "metadata": {},
     "outputs": [
      {
       "metadata": {},
       "output_type": "pyout",
       "prompt_number": 59,
       "text": [
        "FITS_rec([('G130M'), ('G130M'), ('G130M'), ('G130M'), ('G130M'), ('G130M'),\n",
        "       ('G130M'), ('G130M'), ('G130M'), ('G130M'), ('G130M'), ('G130M'),\n",
        "       ('G130M'), ('G130M'), ('G130M'), ('G130M'), ('G130M'), ('G130M'),\n",
        "       ('G130M'), ('G130M'), ('G130M'), ('G130M'), ('G130M'), ('G130M'),\n",
        "       ('G130M'), ('G130M'), ('G130M'), ('G130M'), ('G130M'), ('G130M'),\n",
        "       ('G130M'), ('G130M'), ('G140L'), ('G140L'), ('G140L'), ('G140L'),\n",
        "       ('G140L'), ('G140L'), ('G140L'), ('G140L'), ('G140L'), ('G140L'),\n",
        "       ('G140L'), ('G140L'), ('G160M'), ('G160M'), ('G160M'), ('G160M'),\n",
        "       ('G160M'), ('G160M'), ('G160M'), ('G160M'), ('G160M'), ('G160M'),\n",
        "       ('G160M'), ('G160M'), ('G160M'), ('G160M'), ('G160M'), ('G160M'),\n",
        "       ('G160M'), ('G160M'), ('G160M'), ('G160M')], \n",
        "      dtype=[('OPT_ELEM', 'S8')])"
       ]
      }
     ],
     "prompt_number": 59
    },
    {
     "cell_type": "heading",
     "level": 3,
     "metadata": {},
     "source": [
      "Determine all the possible value combinations for the given modes."
     ]
    },
    {
     "cell_type": "code",
     "collapsed": false,
     "input": [
      "values_possible = list()\n",
      "for field in mode_field_names:\n",
      "    values_possible.append(sorted(list(set(list(ref_old.table_masked[field]) + \n",
      "        list(ref_new.table_masked[field])))))\n",
      "values_combinations = list(product(*values_possible))"
     ],
     "language": "python",
     "metadata": {},
     "outputs": [],
     "prompt_number": 52
    },
    {
     "cell_type": "code",
     "collapsed": false,
     "input": [],
     "language": "python",
     "metadata": {},
     "outputs": []
    }
   ],
   "metadata": {}
  }
 ]
}