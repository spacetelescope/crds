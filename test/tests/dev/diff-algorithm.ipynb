{
 "metadata": {
  "name": "",
  "signature": "sha256:0b021df80ca660e7441c4d5103a4ed4c463a003619c7098d79eef21a2bd87c59"
 },
 "nbformat": 3,
 "nbformat_minor": 0,
 "worksheets": [
  {
   "cells": [
    {
     "cell_type": "heading",
     "level": 1,
     "metadata": {},
     "source": [
      "ISSUE: NEED TO SORT ON THE REDUCED ROWS!!!"
     ]
    },
    {
     "cell_type": "heading",
     "level": 2,
     "metadata": {},
     "source": [
      "Environment"
     ]
    },
    {
     "cell_type": "code",
     "collapsed": false,
     "input": [
      "%autoreload 2\n",
      "\n",
      "import sys\n",
      "\n",
      "sys.path.insert(1, '../..')\n",
      "\n",
      "from astropy.io import fits\n",
      "\n",
      "from crds import rmap"
     ],
     "language": "python",
     "metadata": {},
     "outputs": [],
     "prompt_number": 1
    },
    {
     "cell_type": "heading",
     "level": 2,
     "metadata": {},
     "source": [
      "Library"
     ]
    },
    {
     "cell_type": "code",
     "collapsed": false,
     "input": [
      "def match_modes(table, constraints):\n",
      "    \"\"\"Return rows that match the constraints\n",
      "    \n",
      "    Parameters\n",
      "    ----------\n",
      "    table: FITS_rec\n",
      "           Table to examine\n",
      "           \n",
      "    constraints: {field: value,}\n",
      "                 The values that must match.\n",
      "                 \n",
      "    Returns\n",
      "    -------\n",
      "    The next row that matches.\n",
      "    \"\"\"\n",
      "    for row in table:\n",
      "        match = True\n",
      "        for field in constraints:\n",
      "            match = match & (row[field] == constraints[field])\n",
      "        if match:\n",
      "            yield row"
     ],
     "language": "python",
     "metadata": {},
     "outputs": [],
     "prompt_number": 23
    },
    {
     "cell_type": "code",
     "collapsed": false,
     "input": [
      "def mode_equality(modes_a, modes_b):\n",
      "    \"\"\"Check if the modes are equal\"\"\"\n",
      "    \n",
      "    # Assume not equal\n",
      "    equality = False\n",
      "    \n",
      "    # Must be the same length\n",
      "    if len(modes_a) == len(modes_b):\n",
      "        \n",
      "        # Must have some length\n",
      "        if len(modes_a) > 0:\n",
      "            \n",
      "            # Check equality based on their representations.\n",
      "            equality = (repr(modes_a) == repr(modes_b))\n",
      "            equality = (modes_a == modes_b)\n",
      "            \n",
      "    # That's all folks\n",
      "    return equality"
     ],
     "language": "python",
     "metadata": {},
     "outputs": [],
     "prompt_number": 36
    },
    {
     "cell_type": "heading",
     "level": 2,
     "metadata": {},
     "source": [
      "Main"
     ]
    },
    {
     "cell_type": "heading",
     "level": 3,
     "metadata": {},
     "source": [
      "Setup the mode fields"
     ]
    },
    {
     "cell_type": "code",
     "collapsed": false,
     "input": [
      "test_justmodes =  [\n",
      "    'OPT_ELEM',\n",
      "    'CENWAVE',\n",
      "    'APERTURE',\n",
      "]\n",
      "\n",
      "test_mode_with_value =  {\n",
      "    'OPT_ELEM': 'G160M',\n",
      "}\n",
      "\n",
      "test_multi_mode_with_value =  {\n",
      "    'opt_elem': 'G160M',\n",
      "    'cenwave':  '1600',\n",
      "    'aperture': 'WCA',\n",
      "}\n",
      "\n",
      "test_multi_mixed =  {\n",
      "    'opt_elem': 'G160M',\n",
      "    'cenwave':  '',\n",
      "    #'aperture': 'WCA',\n",
      "}"
     ],
     "language": "python",
     "metadata": {},
     "outputs": [],
     "prompt_number": 4
    },
    {
     "cell_type": "heading",
     "level": 3,
     "metadata": {},
     "source": [
      "Load data"
     ]
    },
    {
     "cell_type": "code",
     "collapsed": false,
     "input": [
      "ref_old = Nascent()\n",
      "ref_new = Nascent()"
     ],
     "language": "python",
     "metadata": {},
     "outputs": [],
     "prompt_number": 5
    },
    {
     "cell_type": "code",
     "collapsed": false,
     "input": [
      "ref_old.path = rmap.locate_file('X6Q17587L_PHOT.FITS'.lower(), 'hst')\n",
      "ref_new.path = rmap.locate_file('Y3S1619RL_PHOT.FITS'.lower(), 'hst')"
     ],
     "language": "python",
     "metadata": {},
     "outputs": [],
     "prompt_number": 6
    },
    {
     "cell_type": "code",
     "collapsed": false,
     "input": [
      "ref_old.hdulist = fits.open(ref_old.path)\n",
      "#ref_new.hdulist = fits.open(ref_new.path)\n",
      "ref_new.hdulist = fits.open(ref_old.path)"
     ],
     "language": "python",
     "metadata": {},
     "outputs": [],
     "prompt_number": 28
    },
    {
     "cell_type": "code",
     "collapsed": false,
     "input": [
      "ref_old.table = ref_old.hdulist[1].data\n",
      "ref_new.table = ref_new.hdulist[1].data"
     ],
     "language": "python",
     "metadata": {},
     "outputs": [],
     "prompt_number": 29
    },
    {
     "cell_type": "heading",
     "level": 4,
     "metadata": {},
     "source": [
      "Check the columns. If not the same, then its an abort."
     ]
    },
    {
     "cell_type": "code",
     "collapsed": false,
     "input": [
      "ref_old.table['APERTURE']"
     ],
     "language": "python",
     "metadata": {},
     "outputs": [
      {
       "metadata": {},
       "output_type": "pyout",
       "prompt_number": 47,
       "text": [
        "chararray(['PSA', 'PSA', 'PSA', 'PSA', 'PSA', 'PSA', 'PSA', 'PSA', 'PSA',\n",
        "       'PSA', 'PSA', 'PSA', 'PSA', 'PSA', 'PSA', 'PSA', 'PSA', 'PSA',\n",
        "       'PSA', 'PSA', 'PSA', 'PSA', 'PSA', 'PSA', 'BOA', 'BOA', 'BOA',\n",
        "       'BOA', 'BOA', 'BOA', 'BOA', 'BOA', 'BOA', 'BOA', 'BOA', 'BOA',\n",
        "       'BOA', 'BOA', 'BOA', 'BOA', 'BOA', 'BOA', 'BOA', 'BOA', 'BOA',\n",
        "       'BOA', 'BOA', 'BOA', 'PSA', 'BOA', 'PSA', 'BOA', 'PSA', 'PSA',\n",
        "       'BOA', 'BOA', 'PSA', 'PSA', 'PSA', 'PSA', 'BOA', 'BOA', 'BOA', 'BOA'], \n",
        "      dtype='|S4')"
       ]
      }
     ],
     "prompt_number": 47
    },
    {
     "cell_type": "code",
     "collapsed": false,
     "input": [
      "sorted(ref_old.table.columns.names) == sorted(ref_new.table.columns.names)"
     ],
     "language": "python",
     "metadata": {},
     "outputs": [
      {
       "metadata": {},
       "output_type": "pyout",
       "prompt_number": 44,
       "text": [
        "True"
       ]
      }
     ],
     "prompt_number": 44
    },
    {
     "cell_type": "heading",
     "level": 3,
     "metadata": {},
     "source": [
      "Ensure the mode constraints match type to the table."
     ]
    },
    {
     "cell_type": "code",
     "collapsed": false,
     "input": [
      "mode_fields = test_mode_with_value\n",
      "\n",
      "if isinstance(mode_fields, dict):\n",
      "    mode_field_names = dict.keys(mode_fields)\n",
      "    mode_constraints = {key: ref_old.table[key].dtype.type(value) for key, value in mode_fields.iteritems() if value is not None}\n",
      "else:\n",
      "    mode_field_names = mode_fields\n",
      "    mode_constraints = {}"
     ],
     "language": "python",
     "metadata": {},
     "outputs": [],
     "prompt_number": 31
    },
    {
     "cell_type": "heading",
     "level": 3,
     "metadata": {},
     "source": [
      "Reduce the tables to just those rows that match the mode specifications."
     ]
    },
    {
     "cell_type": "markdown",
     "metadata": {},
     "source": [
      "We convert to strings to simplify the comparison."
     ]
    },
    {
     "cell_type": "code",
     "collapsed": false,
     "input": [
      "ref_old.mode_rows = [repr(row) for row in match_modes(ref_old.table, mode_constraints)]\n",
      "ref_new.mode_rows = [repr(row) for row in match_modes(ref_new.table, mode_constraints)]"
     ],
     "language": "python",
     "metadata": {},
     "outputs": [],
     "prompt_number": 37
    },
    {
     "cell_type": "heading",
     "level": 3,
     "metadata": {},
     "source": [
      "Sort the rows."
     ]
    },
    {
     "cell_type": "code",
     "collapsed": false,
     "input": [
      "ref_old.mode_rows.sort()\n",
      "ref_new.mode_rows.sort()"
     ],
     "language": "python",
     "metadata": {},
     "outputs": [],
     "prompt_number": 38
    },
    {
     "cell_type": "heading",
     "level": 3,
     "metadata": {},
     "source": [
      "Now for the checks."
     ]
    },
    {
     "cell_type": "code",
     "collapsed": false,
     "input": [
      "is_different = not mode_equality(ref_old.mode_rows, ref_new.mode_rows)"
     ],
     "language": "python",
     "metadata": {},
     "outputs": [],
     "prompt_number": 39
    },
    {
     "cell_type": "code",
     "collapsed": false,
     "input": [
      "is_different"
     ],
     "language": "python",
     "metadata": {},
     "outputs": [
      {
       "metadata": {},
       "output_type": "pyout",
       "prompt_number": 40,
       "text": [
        "False"
       ]
      }
     ],
     "prompt_number": 40
    },
    {
     "cell_type": "code",
     "collapsed": false,
     "input": [],
     "language": "python",
     "metadata": {},
     "outputs": [],
     "prompt_number": 14
    }
   ],
   "metadata": {}
  }
 ]
}