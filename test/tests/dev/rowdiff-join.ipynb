{
 "metadata": {
  "name": "",
  "signature": "sha256:4eda562a774059ad4a0d80c5254a5219f9d3880833c8b811fae28d62b284d659"
 },
 "nbformat": 3,
 "nbformat_minor": 0,
 "worksheets": [
  {
   "cells": [
    {
     "cell_type": "heading",
     "level": 2,
     "metadata": {},
     "source": [
      "Environment"
     ]
    },
    {
     "cell_type": "code",
     "collapsed": false,
     "input": [
      "%autoreload 2\n",
      "\n",
      "import sys\n",
      "\n",
      "sys.path.insert(1, '../..')\n",
      "\n",
      "from itertools import product, izip\n",
      "from astropy.io import fits\n",
      "from astropy.table import Table, join\n",
      "import numpy as np\n",
      "import numpy.ma as ma\n",
      "\n",
      "from crds import rmap\n",
      "import rowdiff"
     ],
     "language": "python",
     "metadata": {},
     "outputs": [],
     "prompt_number": 1
    },
    {
     "cell_type": "heading",
     "level": 2,
     "metadata": {},
     "source": [
      "Library"
     ]
    },
    {
     "cell_type": "code",
     "collapsed": false,
     "input": [
      "def table_to_string(a_table):\n",
      "    \"\"\"Convert a table to a string list.\n",
      "\n",
      "    Parameters\n",
      "    ----------\n",
      "    a_table : astropy.table.table.Table\n",
      "        The table to convert to a string\n",
      "\n",
      "\n",
      "    Returns\n",
      "    -------\n",
      "    result : sequence of strings\n",
      "        A sequence of strings, where each string is one row with comma-separated\n",
      "        column values\n",
      "\n",
      "    \"\"\"\n",
      "    result = list()\n",
      "    for element in a_table:\n",
      "        result.append(str(list(element)).strip('[]'))\n",
      "    return result\n",
      "\n",
      "def column_name_lower(table):\n",
      "    \"\"\"Rename all columns to lowercase\n",
      "\n",
      "    Parameters\n",
      "    ----------\n",
      "    table : astropy.table.Table\n",
      "        Table to rename all columns for.\n",
      "\n",
      "    Returns\n",
      "    -------\n",
      "    Modifies table in place\n",
      "\n",
      "    \"\"\"\n",
      "    for name in table.colnames:\n",
      "        try:\n",
      "            table.rename_column(name, name.lower())\n",
      "        except:\n",
      "            pass\n",
      "        \n",
      "def fits_to_table(table_hdu, mask=False):\n",
      "    \"\"\"Convert a fITS TableHDU to and astropy.table\n",
      "    \n",
      "    In the conversion, columns are forced to lowercase.\n",
      "    Columns that contain strings are right-space stripped.\n",
      "    \n",
      "    Parameters\n",
      "    ----------\n",
      "    table_hdu: TableHDU\n",
      "               The FITS table.\n",
      "    \n",
      "    mask: bool\n",
      "          True to make the table a masked table.\n",
      "               \n",
      "    Returns\n",
      "    -------\n",
      "    astropy.table\n",
      "        And astropy table.\n",
      "        \n",
      "    \"\"\"\n",
      "    \n",
      "    # Create the empty table.\n",
      "    table = Table(masked=mask)\n",
      "    \n",
      "    # Now, for the column-based operations\n",
      "    for name in table_hdu.names:\n",
      "        \n",
      "        # If a string-based column, strip right spaces.\n",
      "        try:\n",
      "            column = np.char.rstrip(table_hdu[name])\n",
      "        except TypeError:\n",
      "            column = table_hdu[name]\n",
      "        \n",
      "        # IF the column is multidemensional, string-i-fy\n",
      "        # it and reduce to single dimension.\n",
      "        if len(column.shape) > 1:\n",
      "            column = column.astype('S')\n",
      "            new_column = []\n",
      "            for idx in range(len(column)):\n",
      "                new_column.append(' '.join(column[idx]))\n",
      "            column = new_column\n",
      "                \n",
      "        # Column manipulation is done. Add to table.\n",
      "        table[name.lower()] = column\n",
      "        \n",
      "    # That's all folks\n",
      "    return table\n",
      "\n",
      "def mask_modes(table, constraints):\n",
      "    \"\"\"Create a mask for the table based on the constraints\n",
      "    \n",
      "    Parameters\n",
      "    ----------\n",
      "    table: astropy.table\n",
      "           Table to create the mask for\n",
      "           \n",
      "    constraints: {field: value,...}\n",
      "                 The constraints to put on the values.\n",
      "                 \n",
      "    Returns\n",
      "    -------\n",
      "    mask\n",
      "          The mask to apply\n",
      "    \"\"\"\n",
      "    \n",
      "    result_mask = np.zeros(len(table), bool)\n",
      "    for field in constraints:\n",
      "        mask = ~ (table[field] == constraints[field])\n",
      "        result_mask = result_mask | mask\n",
      "        \n",
      "    # Return the total mask\n",
      "    return result_mask"
     ],
     "language": "python",
     "metadata": {},
     "outputs": [],
     "prompt_number": 2
    },
    {
     "cell_type": "heading",
     "level": 2,
     "metadata": {},
     "source": [
      "Process"
     ]
    },
    {
     "cell_type": "heading",
     "level": 3,
     "metadata": {},
     "source": [
      "Load the data"
     ]
    },
    {
     "cell_type": "code",
     "collapsed": false,
     "input": [
      "ref_old = Nascent()\n",
      "ref_new = Nascent()"
     ],
     "language": "python",
     "metadata": {},
     "outputs": [],
     "prompt_number": 3
    },
    {
     "cell_type": "code",
     "collapsed": false,
     "input": [
      "ref_old.path = rmap.locate_file('X6Q17587L_PHOT.FITS'.lower(), 'hst')\n",
      "ref_new.path = rmap.locate_file('Y3S1619RL_PHOT.FITS'.lower(), 'hst')"
     ],
     "language": "python",
     "metadata": {},
     "outputs": [],
     "prompt_number": 4
    },
    {
     "cell_type": "code",
     "collapsed": false,
     "input": [
      "test_justmodes =  [\n",
      "    'opt_elem',\n",
      "    'cenwave',\n",
      "    'aperture',\n",
      "]\n",
      "\n",
      "test_mode_opt_elem_value =  {\n",
      "    'opt_elem': 'G160M',\n",
      "}\n",
      "\n",
      "test_mode_cenwave_value = {\n",
      "    'cenwave': '1600'\n",
      "}\n",
      "\n",
      "test_multi_mode_with_value =  {\n",
      "    'opt_elem': 'G160M',\n",
      "    'cenwave':  '1600',\n",
      "    'aperture': 'PSA',\n",
      "}\n",
      "\n",
      "test_multi_mixed =  {\n",
      "    'opt_elem': 'G160M',\n",
      "    'cenwave':  None,\n",
      "    'aperture': 'PSA',\n",
      "}"
     ],
     "language": "python",
     "metadata": {},
     "outputs": [],
     "prompt_number": 5
    },
    {
     "cell_type": "code",
     "collapsed": false,
     "input": [
      "ref_old.hdulist = fits.open(ref_old.path)\n",
      "ref_new.hdulist = fits.open(ref_new.path)"
     ],
     "language": "python",
     "metadata": {},
     "outputs": [],
     "prompt_number": 6
    },
    {
     "cell_type": "heading",
     "level": 3,
     "metadata": {},
     "source": [
      "Convert from FITS table to Astropy Table"
     ]
    },
    {
     "cell_type": "code",
     "collapsed": false,
     "input": [
      "ref_old.table = fits_to_table(ref_old.hdulist[1].data, mask=True)\n",
      "ref_new.table = fits_to_table(ref_new.hdulist[1].data, mask=True)"
     ],
     "language": "python",
     "metadata": {},
     "outputs": [],
     "prompt_number": 7
    },
    {
     "cell_type": "heading",
     "level": 2,
     "metadata": {},
     "source": [
      "Mode setup"
     ]
    },
    {
     "cell_type": "markdown",
     "metadata": {},
     "source": [
      "For the mode constraints, recast the values as their type in the table."
     ]
    },
    {
     "cell_type": "code",
     "collapsed": false,
     "input": [
      "mode_fields = test_mode_opt_elem_value\n",
      "\n",
      "if isinstance(mode_fields, dict):\n",
      "    mode_field_names = dict.keys(mode_fields)\n",
      "    mode_constraints = {key: ref_old.table[key].dtype.type(value) for key, value in mode_fields.iteritems() if value is not None}\n",
      "else:\n",
      "    mode_field_names = mode_fields\n",
      "    mode_constraints = {}"
     ],
     "language": "python",
     "metadata": {},
     "outputs": [],
     "prompt_number": 8
    },
    {
     "cell_type": "code",
     "collapsed": false,
     "input": [
      "ref_old_mode_mask = mask_modes(ref_old.table, mode_constraints)\n",
      "ref_new_mode_mask = mask_modes(ref_new.table, mode_constraints)\n",
      "ref_old_mode_mask"
     ],
     "language": "python",
     "metadata": {},
     "outputs": [
      {
       "metadata": {},
       "output_type": "pyout",
       "prompt_number": 9,
       "text": [
        "masked_array(data = [ True  True  True  True  True  True  True  True  True  True False False\n",
        " False False False False False False False False  True  True  True  True\n",
        "  True  True  True  True  True  True  True  True  True  True False False\n",
        " False False False False False False False False  True  True  True  True\n",
        "  True  True  True  True  True  True  True  True  True  True  True  True\n",
        "  True  True  True  True],\n",
        "             mask = False,\n",
        "       fill_value = True)"
       ]
      }
     ],
     "prompt_number": 9
    },
    {
     "cell_type": "code",
     "collapsed": false,
     "input": [
      "# commented out to try the grouping feature\n",
      "\n",
      "#ref_old.table.mask = ref_old_mode_mask\n",
      "#ref_new.table.mask = ref_new_mode_mask"
     ],
     "language": "python",
     "metadata": {},
     "outputs": [],
     "prompt_number": 10
    },
    {
     "cell_type": "heading",
     "level": 2,
     "metadata": {},
     "source": [
      "Join tests"
     ]
    },
    {
     "cell_type": "code",
     "collapsed": false,
     "input": [
      "inner_join =  join(ref_old.table, ref_new.table,\n",
      "                   keys=mode_field_names,\n",
      "                   join_type='inner',\n",
      "                   uniq_col_name='{table_name}_{col_name}',\n",
      "                   table_names=['old', 'new'])\n",
      "inner_join.columns"
     ],
     "language": "python",
     "metadata": {},
     "outputs": [
      {
       "metadata": {},
       "output_type": "pyout",
       "prompt_number": 25,
       "text": [
        "<TableColumns names=('old_segment','opt_elem','old_cenwave','old_aperture','old_wavelength','old_sensitivity','new_segment','new_cenwave','new_aperture','new_wavelength','new_sensitivity')>"
       ]
      }
     ],
     "prompt_number": 25
    },
    {
     "cell_type": "code",
     "collapsed": false,
     "input": [
      "outer_join =  join(ref_old.table, ref_new.table,\n",
      "                   keys=mode_field_names,\n",
      "                   join_type='outer',\n",
      "                   uniq_col_name='{table_name}_{col_name}',\n",
      "                   table_names=['old', 'new'])\n",
      "outer_join.columns"
     ],
     "language": "python",
     "metadata": {},
     "outputs": [
      {
       "metadata": {},
       "output_type": "pyout",
       "prompt_number": 29,
       "text": [
        "<TableColumns names=('old_segment','opt_elem','old_cenwave','old_aperture','old_wavelength','old_sensitivity','new_segment','new_cenwave','new_aperture','new_wavelength','new_sensitivity')>"
       ]
      }
     ],
     "prompt_number": 29
    }
   ],
   "metadata": {}
  }
 ]
}