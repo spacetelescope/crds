{
 "metadata": {
  "name": "",
  "signature": "sha256:7e838eb6a9f916701ad35b7434c02473299330c40aec866632a6fff93e4352d1"
 },
 "nbformat": 3,
 "nbformat_minor": 0,
 "worksheets": [
  {
   "cells": [
    {
     "cell_type": "code",
     "collapsed": false,
     "input": [
      "import subprocess"
     ],
     "language": "python",
     "metadata": {},
     "outputs": [],
     "prompt_number": 1
    },
    {
     "cell_type": "code",
     "collapsed": false,
     "input": [
      "import os\n",
      "env=os.environ.copy()\n",
      "env['PYTHONPATH'] = '../../'"
     ],
     "language": "python",
     "metadata": {},
     "outputs": [],
     "prompt_number": 2
    },
    {
     "cell_type": "code",
     "collapsed": false,
     "input": [
      "env['CRDS_SERVER_URL'] = 'https://hst-crds-dev.stsci.edu'"
     ],
     "language": "python",
     "metadata": {},
     "outputs": []
    },
    {
     "cell_type": "code",
     "collapsed": false,
     "input": [
      "def runcmd(cmd):\n",
      "    try:\n",
      "        print subprocess.check_output(cmd.split(' '), env=env, stderr=subprocess.STDOUT)\n",
      "    \n",
      "    except subprocess.CalledProcessError as e:\n",
      "        print '******** Error! Output as follows:\\n'\n",
      "        print e.output    "
     ],
     "language": "python",
     "metadata": {},
     "outputs": []
    },
    {
     "cell_type": "code",
     "collapsed": false,
     "input": [
      "cmd=\"python -m bestrefs --old-context hst_0001.pmap --new-context hst_0252.pmap --print-affected --stats -z --verbosity=25 -i cos\"\n",
      "runcmd(cmd)"
     ],
     "language": "python",
     "metadata": {},
     "outputs": []
    },
    {
     "cell_type": "code",
     "collapsed": false,
     "input": [],
     "language": "python",
     "metadata": {},
     "outputs": []
    }
   ],
   "metadata": {}
  }
 ]
}