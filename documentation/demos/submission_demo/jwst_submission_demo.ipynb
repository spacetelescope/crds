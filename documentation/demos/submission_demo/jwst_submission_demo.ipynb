{
 "cells": [
  {
   "cell_type": "markdown",
   "metadata": {},
   "source": [
    "# CRDS For Developers\n",
    "\n",
    "\n",
    "Overview\n",
    "========\n",
    "The rough order of the presentation will be:\n",
    "\n",
    "1. Demonstrations of low level command line tools\n",
    "\n",
    "a. crds certify*\n",
    "\n",
    "b. crds refactor insert\n",
    "\n",
    "c. crds diff         (Differences FITS, JSON, ASDF, YAML, and CRDS rules files)\n",
    "\n",
    "d. crds submit*\n",
    "\n",
    "e. crds uniqname*     (Uniquely names HST calibration and SYNPHOT reference files)\n",
    "\n",
    "f. crds checksum*     (Updates FITS and CRDS rules checksums)\n",
    "\n",
    "g. crds list          (Status / info tool useful for developers/CRDS experts)\n",
    "\n",
    "All are embedded in the web functionality in some form.\n",
    "\n",
    "Star (*) indicates tools the ReDCaT team uses or embeds.\n",
    "\n",
    "2. Demonstrations of tools running as integrated web system\n",
    "\n",
    "a. Context display and CRDS rules\n",
    "\n",
    "b. Batch reference submission (all-in-one references submission + rules updates)\n",
    "\n",
    "c. Submit Mappings (brief mention of doing manual rules changes)\n",
    "\n",
    "d. Archive delivery process\n",
    "\n",
    "e. Set Context\n",
    "\n",
    "f. CRDS Reprocessing\n",
    "\n",
    "g. Pipeline cache sync\n",
    "\n",
    "h. DPAS reprocessing / repro query\n",
    "\n",
    "Batch submission processing utilizes the command line functionality but both web-ifies the formatting and uses them in a holistic way in which certify or refactor warnings can reject or suggest rejecting a submission, differences are used to analyze updates for potential anomalies,  and files are organized and \"flowed\" through the tools in a unified way.\n",
    "\n",
    "The web submission functions also uniquely add (a) cataloging by the CRDS database (b) delivery to the archive (c) implicit reprocessing triggering (c) change tracking and (b) history of past contexts."
   ]
  },
  {
   "cell_type": "markdown",
   "metadata": {},
   "source": [
    "Setup\n",
    "=====\n",
    ">> Setup for a particular server, JWST DEV and /grp/crds/cache for CRDS Content.\n",
    "\n",
    ">> Another common configuration would be: CRDS_PATH=$HOME/crds_cache_dev."
   ]
  },
  {
   "cell_type": "code",
   "execution_count": 1,
   "metadata": {},
   "outputs": [],
   "source": [
    "import os\n",
    "os.environ[\"CRDS_SERVER_URL\"] = \"https://jwst-crds-bit.stsci.edu\"\n",
    "os.environ[\"CRDS_PATH\"] = \"/grp/crds/cache\""
   ]
  },
  {
   "cell_type": "markdown",
   "metadata": {},
   "source": [
    "Checking Configuration Status\n",
    "------------------------------------\n",
    "\n",
    "CRDS configuration status can be dumped out using:"
   ]
  },
  {
   "cell_type": "code",
   "execution_count": 2,
   "metadata": {},
   "outputs": [
    {
     "name": "stdout",
     "output_type": "stream",
     "text": [
      "CRDS Version = '7.3.1, 7.3.1, 55463344'\r\n",
      "CRDS_MODE = 'auto'\r\n",
      "CRDS_PATH = '/grp/crds/cache'\r\n",
      "CRDS_SERVER_URL = 'https://jwst-crds-bit.stsci.edu'\r\n",
      "Cache Locking = 'enabled, multiprocessing'\r\n",
      "Effective Context = 'jwst_0500.pmap'\r\n",
      "Last Synced = '2019-03-26 15:10:17.386016'\r\n",
      "Python Executable = '/Users/jmiller/anaconda3/envs/crds-env/bin/python'\r\n",
      "Python Version = '3.6.8.final.0'\r\n",
      "Readonly Cache = False\r\n"
     ]
    }
   ],
   "source": [
    "! crds list --status"
   ]
  },
  {
   "cell_type": "markdown",
   "metadata": {},
   "source": [
    "Obtaining test data\n",
    "-----------------------\n",
    "\n",
    "I separated the example files from the notebook source but you can obtain/recreate them like this while onsite.   This is comparatively slow so comment it out if you're re-running a lot.   With the current CRDS implementation rsync cannot help here because often you need tweaked versions of test files...  which have to be recopied anyway."
   ]
  },
  {
   "cell_type": "code",
   "execution_count": null,
   "metadata": {},
   "outputs": [],
   "source": [
    "!cp -v  /grp/crds/cache/references/jwst/jwst_miri_dark_0025.fits jwst_miri_dark_0025_a.fits   \n",
    "!cp -v jwst_miri_dark_0025_a.fits jwst_miri_dark_0025_b.fits\n",
    "!cp -v /grp/crds/cache/references/jwst/jwst_miri_dark_0057.fits .\n",
    "!chmod +w *.fits\n",
    "!crds_unique CRDSUNIQ *.fits"
   ]
  },
  {
   "cell_type": "markdown",
   "metadata": {},
   "source": [
    "The \"crds sync\" tool can likewise obtain these files from the JWST OPS server,  but you should probably do that outside this notebook after setting:  \n",
    "\n",
    "CRDS_SERVER_URL=https://jwst-crds.stsci.edu\n",
    "CRDS_PATH=$HOME/crds_cache_ops\n",
    "\n",
    "crds sync --output-dir . --files jwst_miri_dark_0025.fits jwst_miri_dark_0027.fits"
   ]
  },
  {
   "cell_type": "markdown",
   "metadata": {},
   "source": [
    "CRDS Certify\n",
    "===========\n",
    "\n",
    "The CRDS certify tool/package checks CRDS reference and rules files of different formats and is embedded into the ReDCaT front end tools.\n",
    "\n",
    "Demo of command line certify with new constraints running on obolete darks. \n",
    "\n",
    "Prefix >> indicates fitsverify running as a subprocess with captured stderr/stdout\n",
    "fitsverify errors/warnings can also be recategorized by certify"
   ]
  },
  {
   "cell_type": "code",
   "execution_count": null,
   "metadata": {},
   "outputs": [],
   "source": [
    "!crds certify jwst_miri_dark_0025_a.fits --run-fitsverify"
   ]
  },
  {
   "cell_type": "markdown",
   "metadata": {},
   "source": [
    "Certify web output\n",
    "----------------------\n",
    "Related Certify web output\n",
    "\n",
    ">> Similar output with web feedback,  colorized: https://jwst-crds-dev.stsci.edu/authenticated_result/2e126c25-6827-4832-b39e-fc27e2b0d4f9\n",
    "\n",
    "Certify .tpn web review\n",
    "---------------------------\n",
    "Here is a reviewable link of the CRDS internally defined .tpn constraints: https://jwst-crds-dev.stsci.edu/browse/jwst_miri_dark_0057.fits   (open Reference Constraints .tpn panel).  These augment true Datamodels checks and CRDS automatic certify constraints based on Datamodels.\n",
    "\n",
    "Certify --verbose\n",
    "--------------------\n",
    "\n",
    ">> Certify with verbose output to see running constraints,  useful for development / debug:"
   ]
  },
  {
   "cell_type": "code",
   "execution_count": null,
   "metadata": {
    "scrolled": true
   },
   "outputs": [],
   "source": [
    "!crds certify jwst_miri_dark_0025_a.fits --run-fitsverify --verbose"
   ]
  },
  {
   "cell_type": "markdown",
   "metadata": {},
   "source": [
    "CRDS Refactor\n",
    "============\n",
    "The CRDS refactor tool/module is used to update CRDS rmaps based on new reference files.\n",
    "\n",
    "The primary refactor operation is \"insert\" used to add new references to rmaps.\n",
    "\n",
    "Secondary functions are delete (removes references), set_header, and del_header for modifying rmap headers.\n",
    "\n",
    "Adding --verbose gives more of an idea what CRDS does with checking parameters and adding new nested structure.\n",
    "\n",
    "(adding new selector is a misnomer.  CRDS is adding a new match case which lives inside the Match() selector of this rmap.   CRDS also adds a nested UseAfter selector within that new match case...  and because this is not certify and USEAFTER was often undefined early on (before JWST even used USEAFTER,  on purpose)...  CRDS adds the USEAFTER as \"UNDEFINED UNDEFINED\" instead of \"<DATE> <TIME>\".  On the website,  certify would intercept the bad USEAFTER.   Here,  refactor intentionally passes it through so it can be fixed manually.)\n"
   ]
  },
  {
   "cell_type": "code",
   "execution_count": null,
   "metadata": {},
   "outputs": [],
   "source": [
    "! cp -v /grp/crds/cache/mappings/jwst/jwst_miri_dark_0018.rmap .\n",
    "! chmod +w jwst_miri_dark_0018.rmap\n",
    "! crds refactor insert jwst_miri_dark_0018.rmap  new.rmap jwst_miri_dark_0025_a.fits --verbose"
   ]
  },
  {
   "cell_type": "markdown",
   "metadata": {},
   "source": [
    "CRDS Diff\n",
    "========\n",
    "\n",
    "The CRDS Diff tool is used to do polymorphic differences of any CRDS files,  rules or references.\n",
    "\n",
    ">> CRDS Diff works on reference files:"
   ]
  },
  {
   "cell_type": "code",
   "execution_count": null,
   "metadata": {},
   "outputs": [],
   "source": [
    "!crds diff jwst_miri_dark_0025_a.fits jwst_miri_dark_0025_b.fits"
   ]
  },
  {
   "cell_type": "markdown",
   "metadata": {},
   "source": [
    ">> CRDS Diff works on rules files:"
   ]
  },
  {
   "cell_type": "code",
   "execution_count": null,
   "metadata": {},
   "outputs": [],
   "source": [
    "!crds diff ./jwst_miri_dark_0018.rmap ./new.rmap -BFQ --mapping-text-diffs"
   ]
  },
  {
   "cell_type": "markdown",
   "metadata": {},
   "source": [
    "It's important to note that with standalone functions,  things like \"attempting to add invalid files\" are valid as shown above adding an invalid DARK file which is not a cube.\n",
    "\n",
    "Text differences on rules provide a level of redundancy and illustrate what is really happening in the rmap."
   ]
  },
  {
   "cell_type": "markdown",
   "metadata": {},
   "source": [
    "CRDS NewContext\n",
    "===============\n",
    "\n",
    "The crds newcontext tool/module is used to generate a new .pmap and .imaps based on a set of new .rmaps."
   ]
  },
  {
   "cell_type": "code",
   "execution_count": null,
   "metadata": {},
   "outputs": [],
   "source": [
    "!crds newcontext --help"
   ]
  },
  {
   "cell_type": "markdown",
   "metadata": {},
   "source": [
    "CRDS Submit Command Line Tool\n",
    "===========================\n",
    "\n",
    "The crds submit command line tool is a CRDS client utility which interacts with the server and is embedded in the ReDCaT tools.   \n",
    "\n",
    "**IMPORTANT:**   Additional setup is required to run command line file submissions.   Briefly,  you need ssh access to pldmsins1,  membership in group crdsoper, a CRDS server file,  and setup for a .crds.ini files.  \n",
    "\n",
    "See:   https://innerspace.stsci.edu/display/CRDS/Command+Line+File+Submissions\n",
    "\n",
    "After setting up for command line installs, make the command line submission test files unique by setting a FITS header keyword:"
   ]
  },
  {
   "cell_type": "code",
   "execution_count": 3,
   "metadata": {},
   "outputs": [
    {
     "name": "stdout",
     "output_type": "stream",
     "text": [
      "('./jwst_miri_dark_0025_a.fits', 'CRDSUNIQ', '=', '2019-03-26T15:10:37')\r\n",
      "('./jwst_miri_dark_0025_b.fits', 'CRDSUNIQ', '=', '2019-04-05T15:10:37')\r\n",
      "('./jwst_miri_dark_0057.fits', 'CRDSUNIQ', '=', '2019-04-15T15:10:37')\r\n"
     ]
    }
   ],
   "source": [
    "! crds_unique  CRDSUNIQ ./*.fits"
   ]
  },
  {
   "cell_type": "markdown",
   "metadata": {},
   "source": [
    "Next use the CRDS submit logout command to make sure we're starting from scratch,  unlocked:"
   ]
  },
  {
   "cell_type": "code",
   "execution_count": 4,
   "metadata": {},
   "outputs": [
    {
     "name": "stdout",
     "output_type": "stream",
     "text": [
      "CRDS - DEBUG -  Command: ['__main__.py', '--logout', '--verbose']\n",
      "CRDS - INFO -  =============================== setting up ===============================\n",
      "CRDS - DEBUG -  CRDS JSON RPC get_server_info () -->\n",
      "CRDS - DEBUG -  RPC OK \n",
      "CRDS - DEBUG -  Connected to server at 'https://jwst-crds-bit.stsci.edu'\n",
      "CRDS - DEBUG -  Connected to server and computing locally, updating CRDS cache config and operational context.\n",
      "CRDS - DEBUG -  CACHE Skipped update of readonly '/grp/crds/cache/config/jwst/server_config' : SERVER INFO\n",
      "CRDS - DEBUG -  CACHE Skipped update of readonly '/grp/crds/cache/config/jwst/bad_files.txt' : BAD FILES LIST\n",
      "CRDS - DEBUG -  CRDS JSON RPC get_submission_info ('jwst', 'jmiller') -->\n",
      "CRDS - DEBUG -  RPC OK \n",
      "CRDS - DEBUG -  Using reference file selection rules 'jwst-edit' defined by caller.\n",
      "CRDS - INFO -  Symbolic context 'jwst-edit' resolves to 'jwst_0504.pmap'\n",
      "CRDS - INFO -  Logging out releasing lock.\n",
      "CRDS - DEBUG -  --------------- GET: https://jwst-crds-bit.stsci.edu/login/ ---------------\n",
      "CRDS - DEBUG -  ---------------------------------------------------------------------------\n",
      "CRDS - DEBUG -  ---------------------------------------------------------------------------\n",
      "CRDS - DEBUG -  -------------- POST: https://jwst-crds-bit.stsci.edu/login/ --------------\n",
      "CRDS - DEBUG -  ---------------------------------------------------------------------------\n",
      "CRDS - DEBUG -  ---------------------------------------------------------------------------\n",
      "CRDS - DEBUG -  -------------- GET: https://jwst-crds-bit.stsci.edu/logout/ --------------\n",
      "CRDS - DEBUG -  ---------------------------------------------------------------------------\n",
      "CRDS - DEBUG -  ---------------------------------------------------------------------------\n"
     ]
    }
   ],
   "source": [
    "! crds submit --logout --verbose"
   ]
  },
  {
   "cell_type": "markdown",
   "metadata": {},
   "source": [
    "# Finally,  do a command line submission\n",
    "\n",
    "@files means there should be a file named \"files\" in the current directory which lists files to submit one per line or separated by spaces.\n",
    "\n",
    "In the log output, >> indicates progress messages being emitted from the server in real time.\n",
    "\n",
    "The same >> messages show up on a web page for through-the-web submissions.\n",
    "\n",
    "Adding --verbose shows DEBUG log messages which show more detail, particularly web operations.\n",
    "\n",
    "Because of the relative fragility of the command line interface and hand-overs to the web server for review and confirmation,  server actions result in STARTED, READY / BAD FILES / FAIL, and CONFIRMED / FORCED e-mails sent to the crds-servers@stsci.edu mailing list (devs) and redcat@stsci.edu.\n"
   ]
  },
  {
   "cell_type": "code",
   "execution_count": 5,
   "metadata": {},
   "outputs": [
    {
     "name": "stdout",
     "output_type": "stream",
     "text": [
      "CRDS - DEBUG -  Command: ['__main__.py', '--logout', '--verbose']\n",
      "CRDS - INFO -  =============================== setting up ===============================\n",
      "CRDS - DEBUG -  CRDS JSON RPC get_server_info () -->\n",
      "CRDS - DEBUG -  RPC OK \n",
      "CRDS - DEBUG -  Connected to server at 'https://jwst-crds-bit.stsci.edu'\n",
      "CRDS - DEBUG -  Connected to server and computing locally, updating CRDS cache config and operational context.\n",
      "CRDS - DEBUG -  CACHE Skipped update of readonly '/grp/crds/cache/config/jwst/server_config' : SERVER INFO\n",
      "CRDS - DEBUG -  CACHE Skipped update of readonly '/grp/crds/cache/config/jwst/bad_files.txt' : BAD FILES LIST\n",
      "CRDS - DEBUG -  CRDS JSON RPC get_submission_info ('jwst', 'jmiller') -->\n",
      "CRDS - DEBUG -  RPC OK \n",
      "CRDS - DEBUG -  Using reference file selection rules 'jwst-edit' defined by caller.\n",
      "CRDS - INFO -  Symbolic context 'jwst-edit' resolves to 'jwst_0504.pmap'\n",
      "CRDS - INFO -  Logging out releasing lock.\n",
      "CRDS - DEBUG -  --------------- GET: https://jwst-crds-bit.stsci.edu/login/ ---------------\n",
      "CRDS - DEBUG -  ---------------------------------------------------------------------------\n",
      "CRDS - DEBUG -  ---------------------------------------------------------------------------\n",
      "CRDS - DEBUG -  -------------- POST: https://jwst-crds-bit.stsci.edu/login/ --------------\n",
      "CRDS - DEBUG -  ---------------------------------------------------------------------------\n",
      "CRDS - DEBUG -  ---------------------------------------------------------------------------\n",
      "CRDS - DEBUG -  -------------- GET: https://jwst-crds-bit.stsci.edu/logout/ --------------\n",
      "CRDS - DEBUG -  ---------------------------------------------------------------------------\n",
      "CRDS - DEBUG -  ---------------------------------------------------------------------------\n",
      "2019-03-26 15:10:48,410 - CRDS - DEBUG -  Command: ['rc_submit.py', '--redcat-parameters', 'rc_submit.yaml', '--files', 'jwst_miri_dark_0057.fits', '--keep-existing-files', '--monitor', '--wait', '--log-time', '--stats', '--creator', 'Todd Miller', '--description', 'Small scale command line submission test.', '--verbose']\n",
      "2019-03-26 15:10:48,410 - CRDS - INFO -  =============================== setting up ===============================\n",
      "2019-03-26 15:10:48,411 - CRDS - DEBUG -  CRDS JSON RPC get_server_info () -->\n",
      "2019-03-26 15:10:48,458 - CRDS - DEBUG -  RPC OK \n",
      "2019-03-26 15:10:48,458 - CRDS - DEBUG -  Connected to server at 'https://jwst-crds-bit.stsci.edu'\n",
      "2019-03-26 15:10:48,458 - CRDS - DEBUG -  Connected to server and computing locally, updating CRDS cache config and operational context.\n",
      "2019-03-26 15:10:48,471 - CRDS - DEBUG -  CACHE Skipped update of readonly '/grp/crds/cache/config/jwst/server_config' : SERVER INFO\n",
      "2019-03-26 15:10:48,472 - CRDS - DEBUG -  CACHE Skipped update of readonly '/grp/crds/cache/config/jwst/bad_files.txt' : BAD FILES LIST\n",
      "2019-03-26 15:10:48,472 - CRDS - DEBUG -  CRDS JSON RPC get_submission_info ('jwst', 'jmiller') -->\n",
      "2019-03-26 15:10:48,517 - CRDS - DEBUG -  RPC OK \n",
      "2019-03-26 15:10:48,524 - CRDS - DEBUG -  Using reference file selection rules 'jwst-edit' defined by caller.\n",
      "2019-03-26 15:10:48,524 - CRDS - INFO -  Symbolic context 'jwst-edit' resolves to 'jwst_0504.pmap'\n",
      "2019-03-26 15:10:48,524 - CRDS - INFO -  Logging in aquiring lock.\n",
      "2019-03-26 15:10:48,524 - CRDS - DEBUG -  -------- GET: https://jwst-crds-bit.stsci.edu/lock_status/jmiller/ --------\n",
      "2019-03-26 15:10:48,572 - CRDS - DEBUG -  ---------------------------------------------------------------------------\n",
      "2019-03-26 15:10:48,573 - CRDS - DEBUG -  ---------------------------------------------------------------------------\n",
      "2019-03-26 15:10:48,573 - CRDS - DEBUG -  ---------------------------------------------------------------------------\n",
      "2019-03-26 15:10:48,580 - CRDS - DEBUG -  lock_status: <Response [200]>\n",
      "2019-03-26 15:10:48,580 - CRDS - DEBUG -  --------------- GET: https://jwst-crds-bit.stsci.edu/login/ ---------------\n",
      "2019-03-26 15:10:48,604 - CRDS - DEBUG -  ---------------------------------------------------------------------------\n",
      "2019-03-26 15:10:48,605 - CRDS - DEBUG -  ---------------------------------------------------------------------------\n",
      "2019-03-26 15:10:48,606 - CRDS - DEBUG -  -------------- POST: https://jwst-crds-bit.stsci.edu/login/ --------------\n",
      "2019-03-26 15:10:48,924 - CRDS - DEBUG -  ---------------------------------------------------------------------------\n",
      "2019-03-26 15:10:48,925 - CRDS - DEBUG -  ---------------------------------------------------------------------------\n",
      "2019-03-26 15:10:48,950 - CRDS - INFO -  Preparing server logging.\n",
      "2019-03-26 15:10:48,950 - CRDS - DEBUG -  --------- GET: https://jwst-crds-bit.stsci.edu/jpoll/open_channel ---------\n",
      "2019-03-26 15:10:49,002 - CRDS - DEBUG -  ---------------------------------------------------------------------------\n",
      "2019-03-26 15:10:49,002 - CRDS - DEBUG -  ---------------------------------------------------------------------------\n",
      "2019-03-26 15:10:49,002 - CRDS - DEBUG -  ---------------------------------------------------------------------------\n",
      "2019-03-26 15:10:49,003 - CRDS - INFO -  ============================== ingest files ==============================\n",
      "2019-03-26 15:10:49,003 - CRDS - INFO -  Copying 1 file(s) totalling 773.6 M bytes\n",
      "2019-03-26 15:10:49,003 - CRDS - DEBUG -  ---------------------------------------------------------------------------\n",
      "2019-03-26 15:10:49,016 - CRDS - INFO -  Determining existing files.\n",
      "2019-03-26 15:10:49,017 - CRDS - DEBUG -  ------------ GET: https://jwst-crds-bit.stsci.edu/upload/list/ ------------\n",
      "2019-03-26 15:10:49,063 - CRDS - DEBUG -  ---------------------------------------------------------------------------\n",
      "2019-03-26 15:10:49,063 - CRDS - DEBUG -  ---------------------------------------------------------------------------\n",
      "2019-03-26 15:10:49,064 - CRDS - DEBUG -  ---------------------------------------------------------------------------\n",
      "2019-03-26 15:10:49,064 - CRDS - DEBUG -  JSON info on existing ingested files:\n",
      " {'files': [{'deleteType': 'DELETE',\n",
      "            'deleteUrl': '/upload/delete/jwst_miri_dark_0057.fits',\n",
      "            'name': 'jwst_miri_dark_0057.fits',\n",
      "            'size': 773585280}]}\n",
      "2019-03-26 15:10:49,064 - CRDS - INFO -  File './jwst_miri_dark_0057.fits' has already been copied and has correct length on CRDS server 773.6 M\n",
      "2019-03-26 15:10:49,064 - CRDS - DEBUG -  ---------------------------------------------------------------------------\n",
      "2019-03-26 15:10:49,064 - CRDS - DEBUG -  STARTED 2019-03-26 15:10:49.00\n",
      "2019-03-26 15:10:49,064 - CRDS - DEBUG -  STOPPED 2019-03-26 15:10:49.06\n",
      "2019-03-26 15:10:49,065 - CRDS - DEBUG -  ELAPSED 0:00:00.06\n",
      "2019-03-26 15:10:49,065 - CRDS - INFO -  ===========================================================================\n",
      "2019-03-26 15:10:49,065 - CRDS - INFO -  Posting web request for '/submission_form/redcat_submit/'\n",
      "2019-03-26 15:10:49,070 - CRDS - DEBUG -  ReDCaT parameters:\n",
      " {'additional_considerations': 'None whatsoever',\n",
      " 'calpipe_version': 'Yes 1.0',\n",
      " 'compliance_verified': 'Yes',\n",
      " 'correctness_testing': 'Carefully',\n",
      " 'deliverer': 'Todd Miller',\n",
      " 'descrip_updated': True,\n",
      " 'description': 'this is a test',\n",
      " 'etc_delivery': 'No',\n",
      " 'file_type': 'dark',\n",
      " 'history_updated': True,\n",
      " 'ingest_files': False,\n",
      " 'instrument': 'miri',\n",
      " 'jira_issue': None,\n",
      " 'jwst_etc': 'No',\n",
      " 'keywords_checked': 'Yes',\n",
      " 'modes_affected': 'xxxx',\n",
      " 'old_reference_files': 'No',\n",
      " 'other_email': None,\n",
      " 'pedigree_updated': True,\n",
      " 'replacement_files': False,\n",
      " 'replacing_badfiles': 'No',\n",
      " 'table_rows_changed': 'xxx',\n",
      " 'useafter_matches': 'N/A',\n",
      " 'useafter_updated': True}\n",
      "2019-03-26 15:10:49,071 - CRDS - DEBUG -  --- GET: https://jwst-crds-bit.stsci.edu/submission_form/redcat_submit/ ---\n",
      "2019-03-26 15:10:49,207 - CRDS - DEBUG -  ---------------------------------------------------------------------------\n",
      "2019-03-26 15:10:49,207 - CRDS - DEBUG -  ---------------------------------------------------------------------------\n",
      "2019-03-26 15:10:49,211 - CRDS - DEBUG -  -- POST: https://jwst-crds-bit.stsci.edu/submission_form/redcat_submit/ --\n",
      "2019-03-26 15:10:59,220 - CRDS - DEBUG -  Command: ['crds.monitor', '--key', '386e95b1-8a4b-4476-b7d3-1039f2c71405', '--poll', '3', '--log-time']\n"
     ]
    },
    {
     "name": "stdout",
     "output_type": "stream",
     "text": [
      "2019-03-26 15:10:59,220 - CRDS - INFO -  ======= monitoring server on '386e95b1-8a4b-4476-b7d3-1039f2c71405' =======\n",
      "2019-03-26 15:10:59,220 - CRDS - DEBUG -  CRDS JSON RPC jpoll_pull_messages ('386e95b1-8a4b-4476-b7d3-1039f2c71405', '0') -->\n",
      "2019-03-26 15:10:59,293 - CRDS - DEBUG -  RPC OK \n",
      "2019-03-26 15:10:59,299 - CRDS - INFO -  >> Starting submission processing.\n",
      "2019-03-26 15:10:59,299 - CRDS - INFO -  >> Certifying 'jwst_miri_dark_0057.fits'\n",
      "2019-03-26 15:10:59,299 - CRDS - INFO -  >> Resolved old rmap as 'jwst_miri_dark_0038.rmap' based on context 'jwst_0504.pmap'\n",
      "2019-03-26 15:10:59,299 - CRDS - INFO -  >> Doing trial insertion of 1 references into 'jwst_miri_dark_0038.rmap'\n",
      "2019-03-26 15:10:59,300 - CRDS - INFO -  >> Processing 'jwst_miri_dark_0057.fits' [1 / 1 files] [773.6 M / 773.6 M / 773.6 M bytes]\n",
      "2019-03-26 15:10:59,300 - CRDS - INFO -  >> Renaming 'jwst_miri_dark_0057.fits' --> 'jwst_miri_dark_0087.fits'\n",
      "2019-03-26 15:10:59,300 - CRDS - INFO -  >> Copying 'jwst_miri_dark_0057.fits'\n",
      "2019-03-26 15:11:02,303 - CRDS - DEBUG -  CRDS JSON RPC jpoll_pull_messages ('386e95b1-8a4b-4476-b7d3-1039f2c71405', '26961') -->\n",
      "2019-03-26 15:11:02,371 - CRDS - DEBUG -  RPC OK \n",
      "2019-03-26 15:11:05,373 - CRDS - DEBUG -  CRDS JSON RPC jpoll_pull_messages ('386e95b1-8a4b-4476-b7d3-1039f2c71405', '26961') -->\n",
      "2019-03-26 15:11:05,433 - CRDS - DEBUG -  RPC OK \n",
      "2019-03-26 15:11:08,437 - CRDS - DEBUG -  CRDS JSON RPC jpoll_pull_messages ('386e95b1-8a4b-4476-b7d3-1039f2c71405', '26961') -->\n",
      "2019-03-26 15:11:08,490 - CRDS - DEBUG -  RPC OK \n",
      "2019-03-26 15:11:11,494 - CRDS - DEBUG -  CRDS JSON RPC jpoll_pull_messages ('386e95b1-8a4b-4476-b7d3-1039f2c71405', '26961') -->\n",
      "2019-03-26 15:11:11,544 - CRDS - DEBUG -  RPC OK \n",
      "2019-03-26 15:11:14,544 - CRDS - DEBUG -  CRDS JSON RPC jpoll_pull_messages ('386e95b1-8a4b-4476-b7d3-1039f2c71405', '26961') -->\n",
      "2019-03-26 15:11:14,623 - CRDS - DEBUG -  RPC OK \n",
      "2019-03-26 15:11:14,624 - CRDS - INFO -  >> Adding file 'jwst_miri_dark_0057.fits' to database.\n",
      "2019-03-26 15:11:14,624 - CRDS - INFO -  >> Generating new rmap 'jwst_miri_dark_0042.rmap' from 'jwst_miri_dark_0038.rmap'.\n",
      "2019-03-26 15:11:14,624 - CRDS - INFO -  >> Adding file 'jwst_miri_dark_0042.rmap' to database.\n",
      "2019-03-26 15:11:17,627 - CRDS - DEBUG -  CRDS JSON RPC jpoll_pull_messages ('386e95b1-8a4b-4476-b7d3-1039f2c71405', '26964') -->\n",
      "2019-03-26 15:11:17,679 - CRDS - DEBUG -  RPC OK \n",
      "2019-03-26 15:11:20,682 - CRDS - DEBUG -  CRDS JSON RPC jpoll_pull_messages ('386e95b1-8a4b-4476-b7d3-1039f2c71405', '26964') -->\n",
      "2019-03-26 15:11:20,759 - CRDS - DEBUG -  RPC OK \n",
      "2019-03-26 15:11:20,760 - CRDS - INFO -  >> Certifying 'jwst_miri_dark_0042.rmap'\n",
      "2019-03-26 15:11:20,760 - CRDS - INFO -  >> Checking for derivation collisions.\n",
      "2019-03-26 15:11:20,760 - CRDS - INFO -  >> Computing file differences.\n",
      "2019-03-26 15:11:20,760 - CRDS - INFO -  >> Differencing 'jwst_miri_dark_0038.rmap' vs. 'jwst_miri_dark_0042.rmap'\n",
      "2019-03-26 15:11:20,760 - CRDS - INFO -  >> COMPLETED: https://jwst-crds-bit.stsci.edu//display_result/d686dd22-699d-49cc-9b0e-6f5ae6181ab8\n",
      "2019-03-26 15:11:23,764 - CRDS - INFO -  ========================= monitoring server done =========================\n",
      "2019-03-26 15:11:30,013 - CRDS - DEBUG -  ---------------------------------------------------------------------------\n",
      "2019-03-26 15:11:30,013 - CRDS - DEBUG -  ---------------------------------------------------------------------------\n",
      "2019-03-26 15:11:30,015 - CRDS - INFO -  0 errors\n",
      "2019-03-26 15:11:30,015 - CRDS - INFO -  0 warnings\n",
      "2019-03-26 15:11:30,015 - CRDS - INFO -  27 infos\n",
      "2019-03-26 15:11:30,016 - CRDS - INFO -  STARTED 2019-03-26 15:10:48.40\n",
      "2019-03-26 15:11:30,016 - CRDS - INFO -  STOPPED 2019-03-26 15:11:30.01\n",
      "2019-03-26 15:11:30,016 - CRDS - INFO -  ELAPSED 0:00:41.60\n"
     ]
    }
   ],
   "source": [
    "! crds submit --logout --verbose\n",
    "! crds rc_submit --redcat-parameters rc_submit.yaml --files jwst_miri_dark_0057.fits --keep-existing-files --monitor --wait --log-time --stats --creator \"Todd Miller\" --description \"Small scale command line submission test.\" --verbose"
   ]
  },
  {
   "cell_type": "markdown",
   "metadata": {},
   "source": [
    "Because the underlying command line copy operation is \"cp\" or \"scp\" there is very little status generated during copies.   OTOH,  they are as reliable and efficient as \"cp\" or \"scp\". \n",
    "\n",
    "You can also use --keep-existing-files if you're getting tired of duplicate file uploads,  as long as the files are truly different.  (crds_unique intentionally adds diffs,  so if you do that,  you need to re-upload.   At present files which are bit-for-bit identical (sha1sum) are rejected so if test files are confirmed,  you can no longer fully submit them without first changing them at least a little.)"
   ]
  },
  {
   "cell_type": "markdown",
   "metadata": {},
   "source": [
    "Make the test files unique again (relative to the server) for follow-on web demos:"
   ]
  },
  {
   "cell_type": "code",
   "execution_count": null,
   "metadata": {},
   "outputs": [],
   "source": [
    "! crds_uniq CRDSUNIQ ./*.fits"
   ]
  },
  {
   "cell_type": "markdown",
   "metadata": {},
   "source": [
    "Web Batch Submission\n",
    "===================\n",
    "\n",
    "Batch submissions integrate all of the command line tools to check references, generate updated rmaps, generate updated imaps and pmaps,  and deliver files into cross-mounted delivery directory for the \"CRDS poller\".   Batch submission also generates STARTED, READY/BAD FILES/FAIL, and CONFIRM/CANCEL e-mails.\n",
    "\n",
    ">> Potentially we can extend this page to add addtional ReDCaT metadata:\n",
    "\n",
    "https://jwst-crds-dev.stsci.edu/batch_submit_references/\n",
    "\n",
    ">> Replay of Allyssa'/s submission:\n",
    "\n",
    "https://hst-crds.stsci.edu/monitor/dc1656fb-14c9-4ace-8ef2-8552e6dee323/\n",
    "\n",
    ">> Final results page for Allyssa's submission:\n",
    "\n",
    "https://hst-crds.stsci.edu//display_result/f5161a22-c0cd-4229-b13e-0701a188f825\n",
    "\n",
    ">> Show Past READY / BAD FILES pages to review as example warnings + error messages:\n",
    "\n",
    "https://hst-crds.stsci.edu/display_result/bf0c09f6-ff04-4143-885e-4ee845de113f\n",
    "\n",
    "https://jwst-crds-dev.stsci.edu//display_result/987613e9-b7fe-4682-8eaf-0b4bea6f3b4e\n",
    "\n",
    "https://jwst-crds.stsci.edu/display_result/8e5c830c-fb56-4111-8b2f-b2c6348676bb\n",
    "\n",
    "https://hst-crds-test.stsci.edu/display_result/bf3101c0-718d-4dfb-85d1-ce54b7bbf6c6\n",
    "\n",
    "https://jwst-crds.stsci.edu//display_result/4db1dda9-c7ee-469b-94bf-c5a8f39e0e0f\n",
    "\n",
    "https://jwst-crds.stsci.edu//display_result/4db1dda9-c7ee-469b-94bf-c5a8f39e0e0f\n",
    "\n",
    ">> Show tracking e-mails,  particularly FAIL which has no stored result\n"
   ]
  },
  {
   "cell_type": "markdown",
   "metadata": {},
   "source": [
    "Archiving\n",
    "========\n",
    "\n",
    "Archiving is achieved by linking new CRDS files into a delivery directory which is shared with SDP.\n",
    "\n",
    "/ifs/crds/jwst/dev/server_files/deliveries   (temporary delivery directory,  double linked files)\n",
    "/ifs/crds/jwst/dev/server_files/catalogs     (permanent copies of .cat manifest files)\n",
    "/ifs/crds/jwst/dev/file_cache                (Server's internal CRDS cache, permanent server copies of new files)\n",
    "\n",
    "A .cat manifest file lists each delivered file and is a rough indicator of progress.\n",
    "\n",
    "Files are readonly,  but the directory is r/w for members of crdsoper.\n",
    "\n",
    "SDP's \"CRDS poller\" reads manifests and archives delivered files,  renaming the .cat file to .cat_proc and/or .cat_err along the way.\n",
    "\n",
    "When the delivery is completed,  the .cat file is deleted and CRDS considers the files archived.   There may be some lag before files are officially archived due to downstream protocol delays.\n",
    "\n",
    "A completion e-mail is sent out by the archive.  \n",
    "\n",
    ">> Show archive completion e-mail\n",
    ">> Show ReDCaT update context request e-mail\n"
   ]
  },
  {
   "cell_type": "markdown",
   "metadata": {},
   "source": [
    "Set Context\n",
    "==========\n",
    "\n",
    "On request,  a pipeline logs into the CRDS server and updates the default context on the Set Context page.\n",
    "\n",
    "For simple one context transitions,  the description is taken from the submission description.\n",
    "\n",
    "For complex multi-context transitions,  a summary needs to be constructed by a human manually.\n",
    "\n",
    "Completing Set Context for the operational context (not edit) sets a universal default for typical users,  and signifies the context in use by the archive pipeline.\n",
    "\n",
    "https://jwst-crds-dev.stsci.edu/set_default_context/\n",
    "\n",
    "When the CRDS sync operation is complete,  the CRDS server automatically sends a Set Context e-mail.\n",
    "\n",
    ">> Show CRDS Set Context e-mail"
   ]
  },
  {
   "cell_type": "markdown",
   "metadata": {},
   "source": [
    "CRDS reprocessing\n",
    "================\n",
    "\n",
    "CRDS reprocessing is handled as a cron job on the CRDS server and is automatically triggered by forward moving context changes.   When the cron job notices a context transition,  crds bestrefs is run in context-to-context comparison mode on potentially affected parameters retrieved from the archive.\n",
    "\n",
    "This is captured by the server crontab, monitor_reprocessing, and affected datasets scripts.\n",
    "\n",
    "When the CRDS reprocessing run completes,  the CRDS server automatically sends an e-mail to DPAS containing the log output and the list of dataset IDs to reprocess.   This is sufficient to begin reprocessing but not how it is done. \n",
    "\n",
    "There is a race condition here where CRDS reprocessing can complete and send out IDs prior to the update of the pipeline's CRDS cache and adoption of the new context for reprocessing.  DPAS is aware of the race condition and how to handle it.  Not handling it results in reprocessing using an unchanged context.\n"
   ]
  },
  {
   "cell_type": "markdown",
   "metadata": {},
   "source": [
    "Pipeline Cache Sync\n",
    "================\n",
    "\n",
    "The crds sync tool is used by the pipeline to maintain a local cache of all CRDS reference files.\n",
    "\n",
    "There are written level-4 requirements not to use CRDS files before archiving.   Once the archive delivery is complete,  the CRDS server \"releases\" delivered files for download.   \n",
    "\n",
    "The pipeline then runs a script (documented in the Server Workflow Guide on the server) which wraps the CRDS client's cron_sync script which in turn wraps the crds sync tool.   This was originally envisioned as a pipeline cron job,  much like the one which automatically maintains /grp/crds/cache while running on the servers.\n",
    "\n",
    "The crds sync tool runs in time dependent on the size of the delivery or backlog of missing files (TEST servers).\n",
    "\n",
    "If the CRDS sync tool completes without errors and successfully updates the context it \"pushes\" the pipeline context back up to the server for tracking under the \"remote context\" display visible to authenticated users.\n",
    "\n",
    "A cron jon does a similar automatic sync of /grp/crds/cache and is likewise tracked as an important remote cache.\n",
    "\n",
    "When the pipeline operators complete their sync,  they manually send an acknowledgement e-mail.\n"
   ]
  },
  {
   "cell_type": "markdown",
   "metadata": {},
   "source": [
    "DPAS Use of CRDS repro query and archive reprocessing\n",
    "==============================================\n",
    "\n",
    "Once DPAS has seen the CRDS repro completion e-mail and the pipeline's CRDS cache has been updated with the new files and context definition,  DPAS runs a subclass of the CRDS client's query_affected_datasets script.   This automatically retrieves stored results from the CRDS server and dumps out the list of dataset IDs to reprocess on stdout."
   ]
  },
  {
   "cell_type": "code",
   "execution_count": null,
   "metadata": {},
   "outputs": [],
   "source": []
  },
  {
   "cell_type": "code",
   "execution_count": null,
   "metadata": {},
   "outputs": [],
   "source": []
  }
 ],
 "metadata": {
  "kernelspec": {
   "display_name": "Python 3",
   "language": "python",
   "name": "python3"
  },
  "language_info": {
   "codemirror_mode": {
    "name": "ipython",
    "version": 3
   },
   "file_extension": ".py",
   "mimetype": "text/x-python",
   "name": "python",
   "nbconvert_exporter": "python",
   "pygments_lexer": "ipython3",
   "version": "3.6.8"
  }
 },
 "nbformat": 4,
 "nbformat_minor": 2
}
